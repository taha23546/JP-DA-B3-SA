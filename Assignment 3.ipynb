{
 "cells": [
  {
   "cell_type": "markdown",
   "id": "942b3a7f-dced-4b40-be7f-ddf957620b6b",
   "metadata": {},
   "source": [
    "Question 1: Age Group Classification \n",
    "\n",
    "Write a Python program that takes the age of a person as input and classifies them into one of the following age groups:\n",
    "\n",
    "\"Child\" if the age is between 0 and 12 (inclusive).\n",
    "\n",
    "\"Teenager\" if the age is between 13 and 19 (inclusive).\n",
    "\n",
    "\"Adult\" if the age is between 20 and 64 (inclusive).\n",
    "\n",
    "\"Senior\" if the age is 65 or older.\n"
   ]
  },
  {
   "cell_type": "code",
   "execution_count": 5,
   "id": "65b5e59d-ecc6-4918-bdee-9f560a3e480d",
   "metadata": {},
   "outputs": [
    {
     "name": "stdin",
     "output_type": "stream",
     "text": [
      "Enter age:  34\n"
     ]
    },
    {
     "name": "stdout",
     "output_type": "stream",
     "text": [
      "Adult\n"
     ]
    }
   ],
   "source": [
    "age = int(input(\"Enter age: \"))\n",
    "if 0 <= age <= 12:\n",
    "    print(\"Child\")\n",
    "elif 13 <= age <= 19:\n",
    "    print(\"Teenager\")\n",
    "elif 20 <= age <= 64:\n",
    "    print(\"Adult\")\n",
    "elif age >= 65:\n",
    "    print(\"Senior\")\n",
    "else:\n",
    "    print(\"Invali age entered\")"
   ]
  },
  {
   "cell_type": "markdown",
   "id": "f2fff00c-eb46-4b49-a74d-563a7cf7c5b4",
   "metadata": {},
   "source": [
    "Q2. Write a Python program that asks the user to enter an email address. The program should check if the email contains the characters @ and \".\" (ignoring case). If either character is present, print \"Email format is valid.\" Otherwise, print \"Invalid email format.\""
   ]
  },
  {
   "cell_type": "code",
   "execution_count": 9,
   "id": "b845205f-b45d-402a-9822-1720e5b96621",
   "metadata": {},
   "outputs": [
    {
     "name": "stdin",
     "output_type": "stream",
     "text": [
      "Enter your email Address kabeer.khan@gmail.com\n"
     ]
    },
    {
     "name": "stdout",
     "output_type": "stream",
     "text": [
      "Email format is valid\n"
     ]
    }
   ],
   "source": [
    "email_address = str(input(\"Enter your email Address\"))\n",
    "if \"@\" in email_address and \".\" in email_address:\n",
    "    print(\"Email format is valid\")\n",
    "else:\n",
    "    print(\"Invalid email format\")"
   ]
  },
  {
   "cell_type": "markdown",
   "id": "60aa5753-340d-466b-81c3-7f833f7654ab",
   "metadata": {},
   "source": [
    "Q3. Write a Python program that takes three numbers as input and determines the largest among them. Also, check if any or all of the numbers are equal.\""
   ]
  },
  {
   "cell_type": "code",
   "execution_count": 10,
   "id": "ec75c264-2015-4686-b204-a97f893cfb1a",
   "metadata": {},
   "outputs": [
    {
     "name": "stdin",
     "output_type": "stream",
     "text": [
      "Enter 1st nummber 10\n",
      "Enter 2nd number 27\n",
      "Enter 3rd number 56\n"
     ]
    },
    {
     "name": "stdout",
     "output_type": "stream",
     "text": [
      "The largest nummber is:  56.0\n"
     ]
    }
   ],
   "source": [
    "num1 = float(input(\"Enter 1st nummber\"))\n",
    "num2 = float(input(\"Enter 2nd number\"))\n",
    "num3 = float(input(\"Enter 3rd number\"))\n",
    "if num1==num2==num3:\n",
    "    print(\"All three nummbers are equal\")\n",
    "elif num1==num2 or num2==num3 or num3==num1:\n",
    "    print(\"Some of all enter number are equal\")\n",
    "    largest=max(num1,num2,num3)\n",
    "    print(\"The largest number is: \", largest)\n",
    "else:\n",
    "    largest=max(num1,num2,num3)\n",
    "    print(\"The largest nummber is: \", largest)\n"
   ]
  },
  {
   "cell_type": "markdown",
   "id": "fa26e853-f57f-48bd-a22a-39f066ed736f",
   "metadata": {},
   "source": [
    "Q4. Write a Python program that:\n",
    "\n",
    "Asks the user to enter a number.\n",
    "\n",
    "Checks whether the number is positive.\n",
    "\n",
    "If yes, further check if it's even or odd.\n",
    "\n",
    "Print \"The number is positive and even\" if divisible by 2.\n",
    "\n",
    "Print \"The number is positive and odd\" if not divisible by 2.\n",
    "\n",
    "If the number is zero or negative, print \"The number is not positive\".\n",
    "\n"
   ]
  },
  {
   "cell_type": "code",
   "execution_count": 11,
   "id": "dd8df9dc-df45-46ba-87e4-6fd16b66a430",
   "metadata": {},
   "outputs": [
    {
     "name": "stdin",
     "output_type": "stream",
     "text": [
      "Enter a number 17\n"
     ]
    },
    {
     "name": "stdout",
     "output_type": "stream",
     "text": [
      "The number is positive and odd\n"
     ]
    }
   ],
   "source": [
    "number=int(input(\"Enter a number\"))\n",
    "if number>0:\n",
    "    if number%2 == 0:\n",
    "        print(\"The number is positive and even\")\n",
    "    else:\n",
    "        print(\"The number is positive and odd\")\n",
    "else:\n",
    "    print(\"The number is not positive\")"
   ]
  },
  {
   "cell_type": "markdown",
   "id": "2ff3a9b3-c79f-44f6-af49-43bf6a4b0d2f",
   "metadata": {},
   "source": [
    "Q5. Ask the user for a username and password. Check if the username is correct. If it is, then check if the password is correct. If both are correct, print \"Access granted\".\n",
    "\n",
    "username = \"admin\"\n",
    "\n",
    "password = \"1234\""
   ]
  },
  {
   "cell_type": "code",
   "execution_count": 12,
   "id": "fa628b68-1233-42ad-b77c-61e4ad2c7a78",
   "metadata": {},
   "outputs": [
    {
     "name": "stdin",
     "output_type": "stream",
     "text": [
      "Enter correct username admin\n",
      "Enter correct password 2773\n"
     ]
    },
    {
     "name": "stdout",
     "output_type": "stream",
     "text": [
      "Enter correcct password\n"
     ]
    }
   ],
   "source": [
    "username = \"admin\"\n",
    "password = \"1234\"\n",
    "enter_username = str(input(\"Enter correct username\"))\n",
    "enter_password = int(input(\"Enter correct password\"))\n",
    "if enter_username == username:\n",
    "    if enter_password == password:\n",
    "        print(\"Access granted\")\n",
    "    else:\n",
    "        print(\"Enter correcct password\")\n",
    "else:\n",
    "    print(\"Enter correct username\")"
   ]
  },
  {
   "cell_type": "markdown",
   "id": "5d31fac9-10b7-4037-bbb7-837cc8f9ec82",
   "metadata": {},
   "source": [
    "Q6. Take an integer input from the user and check whether the entered value exists in the tuple my_tuple = (5, 10, 15, 20, 25). Print an appropriate message based on the result."
   ]
  },
  {
   "cell_type": "code",
   "execution_count": 13,
   "id": "1df27965-5c6f-40b0-909c-d4454a4f6253",
   "metadata": {},
   "outputs": [
    {
     "name": "stdin",
     "output_type": "stream",
     "text": [
      "Enter a innteger number 15\n"
     ]
    },
    {
     "name": "stdout",
     "output_type": "stream",
     "text": [
      "15 is in my_tuple\n"
     ]
    }
   ],
   "source": [
    "my_tuple = (5,10, 15, 20, 25)\n",
    "user_input=int(input(\"Enter a integer number\"))\n",
    "if user_input in my_tuple:\n",
    "    print(user_input, \"is in my_tuple\")\n",
    "else:\n",
    "    print(user_input, \"is not present in my_tuple\")"
   ]
  },
  {
   "cell_type": "markdown",
   "id": "f789b3b9-faa6-4dc5-9d52-6d89119935da",
   "metadata": {},
   "source": [
    "Q7. Create a program that takes the user's first name, last name, and age as input, packs them into a tuple, and prints the tuple."
   ]
  },
  {
   "cell_type": "code",
   "execution_count": 1,
   "id": "55fc20c3-7c99-4ddd-9c87-a6546928a84e",
   "metadata": {},
   "outputs": [
    {
     "name": "stdin",
     "output_type": "stream",
     "text": [
      "Enter first name Muhammad\n",
      "Enter last name Taha\n",
      "Enter your age 24\n"
     ]
    },
    {
     "name": "stdout",
     "output_type": "stream",
     "text": [
      "('Muhammad', 'Taha', 24.0)\n"
     ]
    }
   ],
   "source": [
    "first_name=str(input(\"Enter first name\"))\n",
    "last_name=str(input(\"Enter last name\"))\n",
    "age=float(input(\"Enter your age\"))\n",
    "bio_tuple=(first_name,last_name,age)\n",
    "print(bio_tuple)"
   ]
  },
  {
   "cell_type": "markdown",
   "id": "aca97c86-2d73-43c9-96aa-0b255feff0b3",
   "metadata": {},
   "source": [
    "Q8. Given the tuple coordinates = (4, 5, 6), unpack the elements of the tuple into three variables x, y, and z. Then, calculate and print the sum of the variables."
   ]
  },
  {
   "cell_type": "code",
   "execution_count": 2,
   "id": "849b65a7-979d-49d5-8a95-0d1d6d772a0c",
   "metadata": {},
   "outputs": [
    {
     "name": "stdout",
     "output_type": "stream",
     "text": [
      "sum of three variables is:  15\n"
     ]
    }
   ],
   "source": [
    "coordinates=(4, 5, 6)\n",
    "x,y,z=coordinates\n",
    "addition=(x+y+z)\n",
    "print(\"sum of three variables is: \", addition)"
   ]
  },
  {
   "cell_type": "markdown",
   "id": "570c424f-48dc-4968-a523-594bad2d3313",
   "metadata": {},
   "source": [
    "Q9. Given the tuple my_tuple = (1, 2, 3, 4, 5), remove the element 3 from the tuple by first converting it to a list, and then print the resulting tuple."
   ]
  },
  {
   "cell_type": "code",
   "execution_count": 3,
   "id": "0d5ee0b1-97a7-4a83-a026-394e936a352f",
   "metadata": {},
   "outputs": [
    {
     "name": "stdout",
     "output_type": "stream",
     "text": [
      "remove the element 3 from tuple: (1, 2, 4, 5)\n"
     ]
    }
   ],
   "source": [
    "my_tuple=(1,2,3,4,5)\n",
    "temporary_list=list(my_tuple)\n",
    "temporary_list.remove(3)\n",
    "updated_tuple=tuple(temporary_list)\n",
    "print(\"remove the element 3 from tuple:\",updated_tuple)"
   ]
  },
  {
   "cell_type": "markdown",
   "id": "ff3c5935-2f04-44c7-b9b2-3189f76a8d92",
   "metadata": {},
   "source": [
    "Q10. Given the tuple numbers = (10, 20, 5, 30, 15), find and print the maximum and minimum values in the tuple."
   ]
  },
  {
   "cell_type": "code",
   "execution_count": 4,
   "id": "2a1bc655-ea83-46b9-810d-e21f2b691c0e",
   "metadata": {},
   "outputs": [
    {
     "name": "stdout",
     "output_type": "stream",
     "text": [
      "Maximum value in given tuple is: 30\n",
      "Minimum value in given tuple is: 5\n"
     ]
    }
   ],
   "source": [
    "numbers=(10,20,5,30,15)\n",
    "print(\"Maximum value in given tuple is:\",max(numbers))\n",
    "print(\"Minimum value in given tuple is:\",min(numbers))"
   ]
  },
  {
   "cell_type": "code",
   "execution_count": null,
   "id": "4946a1af-ac1c-45d4-9e87-7330af1cc8d9",
   "metadata": {},
   "outputs": [],
   "source": []
  }
 ],
 "metadata": {
  "kernelspec": {
   "display_name": "Python 3 (ipykernel)",
   "language": "python",
   "name": "python3"
  },
  "language_info": {
   "codemirror_mode": {
    "name": "ipython",
    "version": 3
   },
   "file_extension": ".py",
   "mimetype": "text/x-python",
   "name": "python",
   "nbconvert_exporter": "python",
   "pygments_lexer": "ipython3",
   "version": "3.12.7"
  }
 },
 "nbformat": 4,
 "nbformat_minor": 5
}
