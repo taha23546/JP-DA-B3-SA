{
 "cells": [
  {
   "cell_type": "markdown",
   "id": "7b49aea7-50fe-4950-831d-0a4dc566da66",
   "metadata": {},
   "source": [
    "Q1.\n",
    "\n",
    "An e-commerce store stores information about its products in a nested dictionary. The outer dictionary uses product IDs as keys, and the inner dictionary stores product details like name, category, price, and stock quantity. products = { 101: {\"name\": \"Laptop\", \"category\": \"Electronics\", \"price\": 1200, \"stock\": 50}, 102: {\"name\": \"Shirt\", \"category\": \"Apparel\", \"price\": 25, \"stock\": 200}, 103: {\"name\": \"Coffee Maker\", \"category\": \"Home Appliances\", \"price\": 80, \"stock\": 30} }\n",
    "\n",
    "• Increase the stock of the \"Shirt\" product (add 50 more units)\n",
    "\n",
    "• Add a new product (e.g., \"Smartphone\")"
   ]
  },
  {
   "cell_type": "code",
   "execution_count": 2,
   "id": "57a1a4a3-49f2-46da-8bb9-49a4446231c6",
   "metadata": {},
   "outputs": [],
   "source": [
    "products = {\n",
    "    101: {\"name\":\"Laptop\",\"category\":\"Electronics\",\"price\":1200,\"stock\":50},\n",
    "    102: {\"name\":\"Shirt\",\"category\":\"Apparel\",\"price\":25,\"stock\":200},\n",
    "    103: {\"name\":\"Coffee Maker\",\"category\":\"Home Appliaces\",\"price\":80,\"stock\":30}  \n",
    "}\n"
   ]
  },
  {
   "cell_type": "code",
   "execution_count": 3,
   "id": "95458079-a538-45ff-a986-7aa65dc5817f",
   "metadata": {},
   "outputs": [
    {
     "name": "stdout",
     "output_type": "stream",
     "text": [
      "{101: {'name': 'Laptop', 'category': 'Electronics', 'price': 1200, 'stock': 50}, 102: {'name': 'Shirt', 'category': 'Apparel', 'price': 25, 'stock': 250}, 103: {'name': 'Coffee Maker', 'category': 'Home Appliaces', 'price': 80, 'stock': 30}}\n"
     ]
    }
   ],
   "source": [
    "#Increase the stock of the \"Shirt\" product (add 50 more units)\n",
    "products[102][\"stock\"] += 50\n",
    "print(products)"
   ]
  },
  {
   "cell_type": "code",
   "execution_count": 4,
   "id": "21cfa196-4fae-4bb1-92f2-efde84b20cfb",
   "metadata": {},
   "outputs": [
    {
     "name": "stdout",
     "output_type": "stream",
     "text": [
      "{101: {'name': 'Laptop', 'category': 'Electronics', 'price': 1200, 'stock': 50}, 102: {'name': 'Shirt', 'category': 'Apparel', 'price': 25, 'stock': 250}, 103: {'name': 'Coffee Maker', 'category': 'Home Appliaces', 'price': 80, 'stock': 30}, 104: {'name': 'Smartphone', 'category': 'Electronis', 'price': 25000, 'stock': 50}}\n"
     ]
    }
   ],
   "source": [
    "#Add a new product (e.g \"Smartphone\")\n",
    "products[104] = {\n",
    "    \"name\": \"Smartphone\",\n",
    "    \"category\":\"Electronis\",\n",
    "    \"price\":25000,\n",
    "    \"stock\":50   \n",
    "}\n",
    "print(products)\n"
   ]
  },
  {
   "cell_type": "markdown",
   "id": "e1951392-6ef8-4451-958c-6f8a1ca78831",
   "metadata": {},
   "source": [
    "Q2.\n",
    "\n",
    "You are given a list that contains some duplicate items. Remove the duplicates\n",
    "\n",
    "shopping_list = [\"apple\", \"banana\", \"apple\", \"orange\", \"banana\", \"grape\"]"
   ]
  },
  {
   "cell_type": "code",
   "execution_count": 1,
   "id": "dc5a92e8-d7d7-498c-94f6-16c530a3e7ca",
   "metadata": {},
   "outputs": [
    {
     "name": "stdout",
     "output_type": "stream",
     "text": [
      "['banana', 'orange', 'grape', 'apple']\n"
     ]
    }
   ],
   "source": [
    "shopping_list = [\"apple\",\"banana\",\"apple\",\"orange\",\"banana\",\"grape\"]\n",
    "unique_items = list(set(shopping_list))\n",
    "print(unique_items)"
   ]
  },
  {
   "cell_type": "markdown",
   "id": "ec2580f6-ceac-4a0a-9b3d-a3c63d235bf7",
   "metadata": {},
   "source": [
    "Q3.\n",
    "\n",
    "You are managing a list of students enrolled in two different courses. You need to perform various set operations to understand the student enrollment. Task: Create two sets: one for students in \"Course A\" and one for students in \"Course B\". Find the students who are in \"Course A\" but not in \"Course B\" (difference). Find students who are only in one of the two courses (symmetric difference). \n",
    "\n",
    "course_a = {\"John\", \"Alice\", \"Bob\", \"David\"} \n",
    "\n",
    "course_b = {\"Alice\", \"Eve\", \"Charlie\", \"David\"}\n",
    "\n",
    "• Find students who are in Course A but not in Course B (difference)\n",
    "\n",
    "• Find students who are only in one of the two courses (symmetric difference)"
   ]
  },
  {
   "cell_type": "code",
   "execution_count": 2,
   "id": "25e2f2b8-ccd8-4277-aac9-e359d8f636a8",
   "metadata": {},
   "outputs": [],
   "source": [
    "course_a = {\"John\",\"Alice\",\"Bob\",\"David\"}\n",
    "course_b = {\"Alice\",\"Eve\",\"Charlie\",\"David\"}"
   ]
  },
  {
   "cell_type": "code",
   "execution_count": 3,
   "id": "820abdf7-edb0-43b5-a50c-f4a0ec7eed43",
   "metadata": {},
   "outputs": [
    {
     "name": "stdout",
     "output_type": "stream",
     "text": [
      "{'Bob', 'John'}\n"
     ]
    }
   ],
   "source": [
    "#Students who are in Course A but not in Course B (difference)\n",
    "Students_in_Course_A = course_a - course_b\n",
    "print(Students_in_Course_A)"
   ]
  },
  {
   "cell_type": "code",
   "execution_count": 4,
   "id": "2f962360-74a7-4f0b-8a95-e355c6dcd7cc",
   "metadata": {},
   "outputs": [
    {
     "name": "stdout",
     "output_type": "stream",
     "text": [
      "{'John', 'Bob', 'Eve', 'Charlie'}\n"
     ]
    }
   ],
   "source": [
    "#Students who are only in one of the two courses (symmetric difference)\n",
    "Students_only_in_one_Course = course_a ^ course_b\n",
    "print(Students_only_in_one_Course)"
   ]
  },
  {
   "cell_type": "markdown",
   "id": "2cdd60c0-7d1f-4b89-9c31-ddb5891a536c",
   "metadata": {},
   "source": [
    "Q4.\n",
    "\n",
    "Write a Python program that calculates the sum of all even numbers between 1 and 50 (inclusive) using a for loop.\n",
    "\n",
    "Hint\n",
    "\n",
    "- Initialize a variable to hold the sum (e.g., sum_of_evens).\n",
    "- Use a for loop to iterate through all numbers from 1 to 50.\n",
    "- Inside the loop, check if the number is even.\n",
    "- If the number is even, add it to sum_of_evens.\n",
    "- After the loop finishes, print the total sum of all even numbers between 1 and 50."
   ]
  },
  {
   "cell_type": "code",
   "execution_count": 7,
   "id": "ddb6837b-de04-458a-b30a-43edfad549e2",
   "metadata": {},
   "outputs": [
    {
     "name": "stdout",
     "output_type": "stream",
     "text": [
      "total sum of all even numbers between 1 and 50: 650\n"
     ]
    }
   ],
   "source": [
    "sum_of_evens = 0\n",
    "for number in range(1,51):\n",
    "    if number % 2 == 0:\n",
    "        sum_of_evens += number\n",
    "print(\"total sum of all even numbers between 1 and 50:\",sum_of_evens)"
   ]
  },
  {
   "cell_type": "markdown",
   "id": "fd48d0e9-35ae-45cc-a2cc-75d89bf300d4",
   "metadata": {},
   "source": [
    "Q5. Power of a Number Write a Python program that takes a number and prints the powers of the number (starting from 1 to 10) using a while loop. For example, if the user inputs 3, the output should be:\n",
    "\n",
    "3^1 = 3\n",
    "\n",
    "3^2 = 9\n",
    "\n",
    "3^3 = 27\n",
    "\n",
    "... up to 3^10."
   ]
  },
  {
   "cell_type": "code",
   "execution_count": 8,
   "id": "53c31cb8-9e72-4305-a0a0-2af271c837ef",
   "metadata": {},
   "outputs": [
    {
     "name": "stdin",
     "output_type": "stream",
     "text": [
      "Enter a number: 5\n"
     ]
    },
    {
     "name": "stdout",
     "output_type": "stream",
     "text": [
      "5^1=5\n",
      "5^2=25\n",
      "5^3=125\n",
      "5^4=625\n",
      "5^5=3125\n",
      "5^6=15625\n",
      "5^7=78125\n",
      "5^8=390625\n",
      "5^9=1953125\n",
      "5^10=9765625\n"
     ]
    }
   ],
   "source": [
    "number = int(input(\"Enter a number:\"))\n",
    "power = 1\n",
    "while power <= 10:\n",
    "    result = number ** power\n",
    "    print(f\"{number}^{power}={result}\")\n",
    "    power += 1"
   ]
  },
  {
   "cell_type": "markdown",
   "id": "3401a105-2515-419a-b0a1-03f30b3f0866",
   "metadata": {},
   "source": [
    "Q6. \n",
    "\n",
    "Problem Statement: Write a Python program that takes an integer input from the user and counts down from that number to 0. The program should display the current number at each step until it reaches 0, at which point it should print a message indicating the countdown is finished\n",
    "\n",
    "Output Hint:\n",
    "\n",
    "Enter a number to start the countdown: 3\n",
    "\n",
    "3\n",
    "\n",
    "2\n",
    "\n",
    "1\n",
    "\n",
    "0\n",
    "\n",
    "Countdown finished!"
   ]
  },
  {
   "cell_type": "code",
   "execution_count": 10,
   "id": "8fcf4fd5-5881-4adf-9213-f609b0b018d6",
   "metadata": {},
   "outputs": [
    {
     "name": "stdin",
     "output_type": "stream",
     "text": [
      "Enter a number to start count down: 7\n"
     ]
    },
    {
     "name": "stdout",
     "output_type": "stream",
     "text": [
      "7\n",
      "6\n",
      "5\n",
      "4\n",
      "3\n",
      "2\n",
      "1\n",
      "0\n",
      "Countdown finished!\n"
     ]
    }
   ],
   "source": [
    "num = int(input(\"Enter a number to start count down:\"))\n",
    "while num >= 0:\n",
    "    print(num)\n",
    "    num -= 1\n",
    "print(\"Countdown finished!\")"
   ]
  },
  {
   "cell_type": "markdown",
   "id": "4a8b8ca4-2004-4ba7-8bba-4b3c0a3707d9",
   "metadata": {},
   "source": [
    "Q7.\n",
    "\n",
    "Write a Python program that takes a number as input from the user and calculates its factorial using a for loop. The program should display the result to the user.\n",
    "\n",
    "Example Input/Output:\n",
    "\n",
    "Input:\n",
    "5\n",
    "\n",
    "Output:\n",
    "The factorial of 5 is 120"
   ]
  },
  {
   "cell_type": "code",
   "execution_count": 12,
   "id": "ea2e962a-2352-44ba-b1a4-5ee6bdf91f1c",
   "metadata": {},
   "outputs": [
    {
     "name": "stdin",
     "output_type": "stream",
     "text": [
      "Enter a number: 4\n"
     ]
    },
    {
     "name": "stdout",
     "output_type": "stream",
     "text": [
      "The factorial of 4 is 24\n"
     ]
    }
   ],
   "source": [
    "num1 = int(input(\"Enter a number:\"))\n",
    "factorial = 1\n",
    "for x in range(1, num1 + 1):\n",
    "    factorial *= x\n",
    "print(f\"The factorial of {num1} is {factorial}\")"
   ]
  },
  {
   "cell_type": "markdown",
   "id": "e298ac95-cf99-40a0-ba9c-eed4e2d16f2d",
   "metadata": {},
   "source": [
    "Q8.\n",
    "\n",
    "Create an empty dictionary called person_info.\n",
    "\n",
    "Assign the following key-value pairs to the dictionary:\n",
    "\n",
    "\"name\": \"Alice\"\n",
    "\n",
    "\"age\": 25\n",
    "\n",
    "\"occupation\": \"Engineer\"\n",
    "\n",
    "After assigning the values, print the dictionary."
   ]
  },
  {
   "cell_type": "code",
   "execution_count": 13,
   "id": "adabd3d5-a15c-4567-81d4-96144e09c4cc",
   "metadata": {},
   "outputs": [
    {
     "name": "stdout",
     "output_type": "stream",
     "text": [
      "{'name': 'Alice', 'age': 25, 'occupation': 'Engineer'}\n"
     ]
    }
   ],
   "source": [
    "person_info = {}\n",
    "person_info[\"name\"] = \"Alice\"\n",
    "person_info[\"age\"] = 25\n",
    "person_info[\"occupation\"] = \"Engineer\"\n",
    "print(person_info)"
   ]
  },
  {
   "cell_type": "markdown",
   "id": "b412f46d-207d-4308-a4eb-be6b951e2c7d",
   "metadata": {},
   "source": [
    "Q9. Printing a right-angled triangle pattern (with NESTED while loop)"
   ]
  },
  {
   "cell_type": "code",
   "execution_count": 14,
   "id": "d22b0e28-afb6-4f7c-964d-36011f5c9c50",
   "metadata": {},
   "outputs": [
    {
     "name": "stdin",
     "output_type": "stream",
     "text": [
      "Enter the number of rows: 7\n"
     ]
    },
    {
     "name": "stdout",
     "output_type": "stream",
     "text": [
      "*\n",
      "**\n",
      "***\n",
      "****\n",
      "*****\n",
      "******\n",
      "*******\n"
     ]
    }
   ],
   "source": [
    "rows = int(input(\"Enter the number of rows:\"))\n",
    "a = 1\n",
    "while a <= rows:\n",
    "    b = 1\n",
    "    while b <= a:\n",
    "        print(\"*\", end=\"\")\n",
    "        b += 1\n",
    "    print()\n",
    "    a += 1"
   ]
  },
  {
   "cell_type": "markdown",
   "id": "a5fa26b6-84d9-45b7-bb50-467e2cc0f92c",
   "metadata": {},
   "source": [
    "Q10.\n",
    "\n",
    "Write a Python program that does the following:\n",
    "\n",
    "Range: Loop through numbers from 1 to 20 (inclusive).\n",
    "\n",
    "Continue: If the number is divisible by 4, skip that iteration and move to the next number.\n",
    "\n",
    "Break: If the number is divisible by 7, stop the loop entirely.\n",
    "\n",
    "For all other numbers, print the number."
   ]
  },
  {
   "cell_type": "code",
   "execution_count": 15,
   "id": "be5c447f-33af-4d05-b8c2-ad66c89d7ef0",
   "metadata": {},
   "outputs": [
    {
     "name": "stdout",
     "output_type": "stream",
     "text": [
      "1\n",
      "2\n",
      "3\n",
      "5\n",
      "6\n"
     ]
    }
   ],
   "source": [
    "for number1 in range(1,21):\n",
    "#skip the iteration and move to the next number\n",
    "    if number1 % 4 == 0:\n",
    "        continue\n",
    "#stop the loop if the number is divisible by 7\n",
    "    if number1 % 7 == 0:\n",
    "        break\n",
    "#print the remiaing numbers\n",
    "    print(number1)"
   ]
  },
  {
   "cell_type": "code",
   "execution_count": null,
   "id": "91df25fe-625d-4aa9-b7a6-5886a246df53",
   "metadata": {},
   "outputs": [],
   "source": []
  }
 ],
 "metadata": {
  "kernelspec": {
   "display_name": "Python 3 (ipykernel)",
   "language": "python",
   "name": "python3"
  },
  "language_info": {
   "codemirror_mode": {
    "name": "ipython",
    "version": 3
   },
   "file_extension": ".py",
   "mimetype": "text/x-python",
   "name": "python",
   "nbconvert_exporter": "python",
   "pygments_lexer": "ipython3",
   "version": "3.12.7"
  }
 },
 "nbformat": 4,
 "nbformat_minor": 5
}
