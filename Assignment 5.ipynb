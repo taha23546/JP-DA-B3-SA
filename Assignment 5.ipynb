{
 "cells": [
  {
   "cell_type": "markdown",
   "id": "eeb07747-830e-4c67-ad7b-b6e950ca0be7",
   "metadata": {},
   "source": [
    "1. Write a Python function called add_numbers that takes two numbers as arguments and returns their sum. Then, test the function by calling it with two numbers of your choice."
   ]
  },
  {
   "cell_type": "code",
   "execution_count": 1,
   "id": "d114eb40-65db-45f1-9628-8290777a1839",
   "metadata": {},
   "outputs": [
    {
     "name": "stdout",
     "output_type": "stream",
     "text": [
      "The sum is: 55\n"
     ]
    }
   ],
   "source": [
    "def add_numbers(x,y):\n",
    "    return x + y\n",
    "result = add_numbers(10,45)\n",
    "print(\"The sum is:\",result)"
   ]
  },
  {
   "cell_type": "markdown",
   "id": "0788db53-daf8-4af3-8ef5-8d988bc31b70",
   "metadata": {},
   "source": [
    "2. Create a Python function called currency_converter() that takes two arguments:\n",
    "\n",
    "- amount: The amount of money to be converted (in USD).\n",
    "- exchange_rate (default is 280): The conversion rate from USD to another currency (e.g., PKR). You can assume the default rate is 1 USD = 280 PKR.\n",
    "\n",
    "The function should return a message showing how much the given amount is worth in the target currency (PKR)."
   ]
  },
  {
   "cell_type": "code",
   "execution_count": 3,
   "id": "c4fc45a2-3013-49c5-a3ce-269ef0373c01",
   "metadata": {},
   "outputs": [
    {
     "name": "stdout",
     "output_type": "stream",
     "text": [
      "$20 USD is equal to 5600 PKR at the rate of 280.\n"
     ]
    }
   ],
   "source": [
    "def currency_converter(amount,exchange_rate=280):\n",
    "    converted_amount=amount*exchange_rate\n",
    "    return f\"${amount} USD is equal to {converted_amount} PKR at the rate of {exchange_rate}.\"\n",
    "message=currency_converter(20)\n",
    "print(message)"
   ]
  },
  {
   "cell_type": "markdown",
   "id": "58ad979c-434b-479e-8094-d458965c9969",
   "metadata": {},
   "source": [
    "3. Write a Python function display_student_info that accepts the following details about a student:\n",
    "\n",
    "- name (Keyword argument): The name of the student.\n",
    "- age (Keyword argument): The age of the student.\n",
    "- grade (Keyword argument): The grade the student is in.\n",
    "- school (Keyword argument): The name of the school the student attends."
   ]
  },
  {
   "cell_type": "code",
   "execution_count": 4,
   "id": "b703f844-4216-4089-8743-a271177f7645",
   "metadata": {},
   "outputs": [
    {
     "name": "stdout",
     "output_type": "stream",
     "text": [
      "Name:Akbar\n",
      "Age:17\n",
      "Grade:9th\n",
      "School:Modern Public School\n"
     ]
    }
   ],
   "source": [
    "def display_student_info(*,name,age,grade,school):\n",
    "    print(f\"Name:{name}\")\n",
    "    print(f\"Age:{age}\")\n",
    "    print(f\"Grade:{grade}\")\n",
    "    print(f\"School:{school}\")\n",
    "display_student_info(name=\"Akbar\",age=17,grade=\"9th\",school=\"Modern Public School\")"
   ]
  },
  {
   "cell_type": "markdown",
   "id": "498e9a0c-be2a-419d-8ecd-57581b60213c",
   "metadata": {},
   "source": [
    "4. Write a Python function calculate_price that accepts two positional arguments:\n",
    "\n",
    "- price: The price of a single item.\n",
    "- quantity: The number of items bought.\n",
    "- The function should return the total price by multiplying price and quantity."
   ]
  },
  {
   "cell_type": "code",
   "execution_count": 5,
   "id": "0d424279-f3c7-460b-a45c-bc54b4cef79c",
   "metadata": {},
   "outputs": [
    {
     "name": "stdout",
     "output_type": "stream",
     "text": [
      "Total price: 3000\n"
     ]
    }
   ],
   "source": [
    "def calculate_price(price,quantity):\n",
    "    return price * quantity\n",
    "total=calculate_price(200,15)\n",
    "print(\"Total price:\",total)"
   ]
  },
  {
   "cell_type": "markdown",
   "id": "a8c08678-c272-4849-a0fa-14f871ea28b1",
   "metadata": {},
   "source": [
    "5. Write a Python function display_prices that takes a product name and an arbitrary number of keyword arguments representing product prices. The function should display each product and its price.\n",
    "\n",
    "Product: Laptop\n",
    "\n",
    "Amazon: $800\n",
    "\n",
    "eBay: $750\n",
    "\n",
    "Walmart: $780"
   ]
  },
  {
   "cell_type": "code",
   "execution_count": 8,
   "id": "e56102a7-17cc-498d-91da-8af8fa67bdff",
   "metadata": {},
   "outputs": [
    {
     "name": "stdout",
     "output_type": "stream",
     "text": [
      "Product: Laptop\n",
      "Amazon: $800\n",
      "eBay: $750\n",
      "Walmart: $780\n"
     ]
    }
   ],
   "source": [
    "def display_prices(product,**prices):\n",
    "    print(f\"Product: {product}\")\n",
    "    for seller, price in prices.items():\n",
    "        print(f\"{seller}: ${price}\")\n",
    "display_prices(\n",
    "    \"Laptop\",\n",
    "    Amazon=800,\n",
    "    eBay=750,\n",
    "    Walmart=780\n",
    ")"
   ]
  },
  {
   "cell_type": "markdown",
   "id": "e392c5fe-faec-42cf-bae4-7f823cbbf106",
   "metadata": {},
   "source": [
    "6. Write a Python function find_max that takes any number of numerical arguments and returns the maximum number."
   ]
  },
  {
   "cell_type": "code",
   "execution_count": 9,
   "id": "62b8d963-dce3-407c-9933-0386d244e749",
   "metadata": {},
   "outputs": [
    {
     "name": "stdout",
     "output_type": "stream",
     "text": [
      "The maximum number is: 91\n"
     ]
    }
   ],
   "source": [
    "def find_max(*numbers):\n",
    "    if not numbers:\n",
    "        return \"No number provided.\"\n",
    "    return max(numbers)\n",
    "result = find_max(12,74,82,91,62,55,10)\n",
    "print(\"The maximum number is:\",result)"
   ]
  },
  {
   "cell_type": "markdown",
   "id": "006c49e6-46b4-4738-a0fd-8f0ed15a9c49",
   "metadata": {},
   "source": [
    "7. Write a Python function display_info that takes:\n",
    "Positional arguments for the name and age of a person.\n",
    "Keyword arguments for other personal details like address, phone number, and email.\n",
    "Example Output:\n",
    "\n",
    "- Name: Alice\n",
    "- Age: 30\n",
    "- Other Details:\n",
    "    - address: 123 Main St\n",
    "    - phone: 123-456-7890\n",
    "    - email: alice@example.com"
   ]
  },
  {
   "cell_type": "code",
   "execution_count": 10,
   "id": "872f82c7-0f91-4cc2-92e8-32c2aee7d6a6",
   "metadata": {},
   "outputs": [
    {
     "name": "stdout",
     "output_type": "stream",
     "text": [
      "-Name: Alice\n",
      "-Age: 30\n",
      "-Other Details:\n",
      " -address:123 Main St\n",
      " -phone:123-456-7890\n",
      " -email:alice@example.com\n"
     ]
    }
   ],
   "source": [
    "def display_info(name,age,**other_details):\n",
    "    print(f\"-Name: {name}\")\n",
    "    print(f\"-Age: {age}\")\n",
    "    print(f\"-Other Details:\")\n",
    "    for key, value in other_details.items():\n",
    "        print(f\" -{key}:{value}\")\n",
    "display_info(\n",
    "    \"Alice\",30,\n",
    "    address=\"123 Main St\",\n",
    "    phone=\"123-456-7890\",\n",
    "    email=\"alice@example.com\"\n",
    ")"
   ]
  },
  {
   "cell_type": "markdown",
   "id": "13fae5a2-fead-442f-ad2e-ba82309ad906",
   "metadata": {},
   "source": [
    "8. products = [ {\"name\": \"Laptop\", \"price\": 1200, \"in_stock\": True, \"discount\": 0.1}, {\"name\": \"Smartphone\", \"price\": 800, \"in_stock\": False, \"discount\": 0.05}, {\"name\": \"Headphones\", \"price\": 150, \"in_stock\": True, \"discount\": 0.2}, {\"name\": \"Smartwatch\", \"price\": 300, \"in_stock\": True, \"discount\": 0}, {\"name\": \"Keyboard\", \"price\": 100, \"in_stock\": True, \"discount\": 0.15} ]\n",
    "\n",
    "- Get names of in-stock products:\n",
    "\n",
    "*Use list comprehension to generate a list of names for the products that are in stock.\n",
    "\n",
    "- Calculate final prices for in-stock products after discount:\n",
    "\n",
    "*For products that have a discount, calculate the final price by applying the discount.\n",
    "\n",
    "*For products with no discount, keep the original price.\n",
    "\n",
    "- Generate a list of tuples with the product name and its final price.\n",
    "\n",
    "Example Output:\n",
    "\n",
    "- In-stock product names: ['Laptop', 'Headphones', 'Smartwatch', 'Keyboard']\n",
    "- Discounted prices: [('Laptop', 1080.0), ('Headphones', 120.0), ('Smartwatch', 300), ('Keyboard', 85.0)]"
   ]
  },
  {
   "cell_type": "code",
   "execution_count": 11,
   "id": "46d72145-5b7f-4f58-bc4b-77293db7fdff",
   "metadata": {},
   "outputs": [
    {
     "name": "stdout",
     "output_type": "stream",
     "text": [
      "In-stock product names: ['Laptop', 'Headphones', 'Smartwatch', 'Keyboard']\n",
      "Discounted prices: [('Laptop', 1080.0), ('Headphones', 120.0), ('Smartwatch', 300), ('Keyboard', 85.0)]\n"
     ]
    }
   ],
   "source": [
    "products = [\n",
    "    {\"name\": \"Laptop\", \"price\": 1200, \"in_stock\": True, \"discount\": 0.1},\n",
    "    {\"name\": \"Smartphone\", \"price\": 800, \"in_stock\": False, \"discount\": 0.05},\n",
    "    {\"name\": \"Headphones\", \"price\": 150, \"in_stock\": True, \"discount\": 0.2},\n",
    "    {\"name\": \"Smartwatch\", \"price\": 300, \"in_stock\": True, \"discount\": 0},\n",
    "    {\"name\": \"Keyboard\", \"price\": 100, \"in_stock\": True, \"discount\": 0.15}\n",
    "]\n",
    "#Get names of in-stock products\n",
    "in_stock_names = [product[\"name\"] for product in products if product[\"in_stock\"]]\n",
    "\n",
    "#Calculate final prices for in-stock products after discount\n",
    "discounted_prices = [\n",
    "    (\n",
    "        product[\"name\"],\n",
    "        round(product[\"price\"] * (1 - product[\"discount\"]), 2)\n",
    "    )\n",
    "    for product in products if product[\"in_stock\"]\n",
    "]\n",
    "print(\"In-stock product names:\", in_stock_names)\n",
    "print(\"Discounted prices:\", discounted_prices)"
   ]
  },
  {
   "cell_type": "markdown",
   "id": "0a20c905-a7e0-4609-bb29-0fb51efd1944",
   "metadata": {},
   "source": [
    "9.Create a list of even numbers between 1 and 20. (List Comprehension)"
   ]
  },
  {
   "cell_type": "code",
   "execution_count": 12,
   "id": "b07fdbe0-05b1-414b-99c2-62fd47d71492",
   "metadata": {},
   "outputs": [
    {
     "name": "stdout",
     "output_type": "stream",
     "text": [
      "Even numbers between 1 and 20: [2, 4, 6, 8, 10, 12, 14, 16, 18, 20]\n"
     ]
    }
   ],
   "source": [
    "even_numbers = [num for num in range(1, 21) if num % 2 == 0]\n",
    "print(\"Even numbers between 1 and 20:\", even_numbers)"
   ]
  },
  {
   "cell_type": "markdown",
   "id": "986adbca-cd0f-4486-bbc1-78d3cec4571a",
   "metadata": {},
   "source": [
    "10. Create a list of numbers, generate a new list containing only the numbers that are divisible by 3 or 5. (List Comprehension)"
   ]
  },
  {
   "cell_type": "code",
   "execution_count": 13,
   "id": "06401456-8ecc-4bbb-b54f-425c3cf63140",
   "metadata": {},
   "outputs": [
    {
     "name": "stdout",
     "output_type": "stream",
     "text": [
      "Numbers divisible by 3 or 5: [3, 5, 6, 9, 10, 12, 15, 18, 20, 21, 24, 25, 27, 30, 33, 35, 36, 39, 40, 42, 45, 48, 50]\n"
     ]
    }
   ],
   "source": [
    "# list of numbers\n",
    "numbers = list(range(1, 51)) \n",
    "# List comprehension to filter numbers divisible by 3 or 5\n",
    "divisible_by_3_or_5 = [num for num in numbers if num % 3 == 0 or num % 5 == 0]\n",
    "print(\"Numbers divisible by 3 or 5:\", divisible_by_3_or_5)"
   ]
  },
  {
   "cell_type": "code",
   "execution_count": null,
   "id": "6ba1d8ea-b4b4-42fd-843d-47ca2d95ba3c",
   "metadata": {},
   "outputs": [],
   "source": []
  }
 ],
 "metadata": {
  "kernelspec": {
   "display_name": "Python 3 (ipykernel)",
   "language": "python",
   "name": "python3"
  },
  "language_info": {
   "codemirror_mode": {
    "name": "ipython",
    "version": 3
   },
   "file_extension": ".py",
   "mimetype": "text/x-python",
   "name": "python",
   "nbconvert_exporter": "python",
   "pygments_lexer": "ipython3",
   "version": "3.12.7"
  }
 },
 "nbformat": 4,
 "nbformat_minor": 5
}
