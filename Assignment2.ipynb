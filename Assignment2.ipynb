{
 "cells": [
  {
   "cell_type": "markdown",
   "id": "543c242f-207d-4897-9185-056d6d93d583",
   "metadata": {},
   "source": [
    "1- \n",
    "\n",
    "text = 'hello python world'\n",
    "\n",
    "Replace spaces with underscores in the string (e.g., \"hello python world\" → \"hello_python_world\").\n",
    "\n",
    "Split the modified string (e.g., \"hello_python_world\" → ['hello', 'python', 'world']).\n",
    "\n",
    "Join the list elements with a hyphen (-) between them (e.g., ['hello', 'python', 'world'] → \"hello-python-world\").\n",
    "\n",
    "Print all three results\n",
    "\n",
    "Hint: Use string methods"
   ]
  },
  {
   "cell_type": "code",
   "execution_count": 2,
   "id": "c3b83d70-9c44-4b63-85c8-387ca68a59ec",
   "metadata": {},
   "outputs": [
    {
     "name": "stdout",
     "output_type": "stream",
     "text": [
      "hello_python_world\n"
     ]
    }
   ],
   "source": [
    "text = 'hello python world'\n",
    "replace_text = text.replace(\" \", \"_\")\n",
    "print(replace_text)"
   ]
  },
  {
   "cell_type": "code",
   "execution_count": 3,
   "id": "aa451736-7dd2-41a2-ab55-7eaa3c30a1d7",
   "metadata": {},
   "outputs": [
    {
     "name": "stdout",
     "output_type": "stream",
     "text": [
      "['hello', 'python', 'world']\n"
     ]
    }
   ],
   "source": [
    "split_text = replace_text.split(\"_\")\n",
    "print(split_text)"
   ]
  },
  {
   "cell_type": "code",
   "execution_count": 4,
   "id": "43e28163-2fd1-4eb6-b06e-7df39f92fc0a",
   "metadata": {},
   "outputs": [
    {
     "name": "stdout",
     "output_type": "stream",
     "text": [
      "hello-python-world\n"
     ]
    }
   ],
   "source": [
    "join_text = \"-\".join(split_text)\n",
    "print(join_text)"
   ]
  },
  {
   "cell_type": "markdown",
   "id": "10d38d7b-f73f-45bd-a2e5-4b288c56bff0",
   "metadata": {},
   "source": [
    "2- Check if a string has more than 5 characters. Return True/False\n",
    "\n",
    "word = \"Javascript\""
   ]
  },
  {
   "cell_type": "code",
   "execution_count": 5,
   "id": "c7de7621-4770-4ad2-ab83-9847a95af1c9",
   "metadata": {},
   "outputs": [
    {
     "name": "stdout",
     "output_type": "stream",
     "text": [
      "True\n"
     ]
    }
   ],
   "source": [
    "word = \"Javascript\"\n",
    "print(len(word)>5)"
   ]
  },
  {
   "cell_type": "markdown",
   "id": "7d1bb120-135f-4c6f-a68b-41e2fc765f52",
   "metadata": {},
   "source": [
    "3- Check if a number is even and greater than 10. Return True/False\n",
    "\n",
    "num2 = 12"
   ]
  },
  {
   "cell_type": "code",
   "execution_count": 6,
   "id": "a4693fc0-b6a5-4f44-a5ff-501bca8df17f",
   "metadata": {},
   "outputs": [
    {
     "name": "stdout",
     "output_type": "stream",
     "text": [
      "True\n"
     ]
    }
   ],
   "source": [
    "num2 = 12\n",
    "print(num2%2==0 and num2>10)"
   ]
  },
  {
   "cell_type": "markdown",
   "id": "49a9b3d8-d306-4da9-a2b0-42e78c06e5f0",
   "metadata": {},
   "source": [
    "4- Check if a number is less than 5 or greater than 20. Return True/False\n",
    "\n",
    "num3 = 3"
   ]
  },
  {
   "cell_type": "code",
   "execution_count": 8,
   "id": "c04c7e5c-1be2-4745-a59c-3281d5416196",
   "metadata": {},
   "outputs": [
    {
     "name": "stdout",
     "output_type": "stream",
     "text": [
      "True\n"
     ]
    }
   ],
   "source": [
    "num3 = 3\n",
    "print(num3<5 or num3>20)"
   ]
  },
  {
   "cell_type": "markdown",
   "id": "a6cd8d9a-1a61-4bca-b8e2-288e13399b8e",
   "metadata": {},
   "source": [
    "5- Check if a person’s age is between 18 and 65 and if they have a valid ID\n",
    "\n",
    "age = 25\n",
    "\n",
    "has_id = True"
   ]
  },
  {
   "cell_type": "code",
   "execution_count": 9,
   "id": "5a0266ee-fab9-4a68-b81f-e0be4ab4c45c",
   "metadata": {},
   "outputs": [
    {
     "name": "stdout",
     "output_type": "stream",
     "text": [
      "True\n"
     ]
    }
   ],
   "source": [
    "age = 25\n",
    "has_id = (age>=18 or age<=65)\n",
    "print(has_id)"
   ]
  },
  {
   "cell_type": "markdown",
   "id": "27978ec1-1085-4528-a11d-8fc775614718",
   "metadata": {},
   "source": [
    "6-Write a script to check if a string starts with (http://) or (https://)\n",
    "\n",
    "url = \"https://www.example.com\""
   ]
  },
  {
   "cell_type": "code",
   "execution_count": 10,
   "id": "15a23341-a1ce-4730-89b1-36ae40e4fd6e",
   "metadata": {},
   "outputs": [
    {
     "name": "stdout",
     "output_type": "stream",
     "text": [
      "True\n"
     ]
    }
   ],
   "source": [
    "url = \"https://www.example.com\"\n",
    "print((\"http://\" in url) or (\"https://\" in url))"
   ]
  },
  {
   "cell_type": "markdown",
   "id": "5aa61fd5-a6cc-4cce-9e7b-b09b907b4f27",
   "metadata": {},
   "source": [
    "7- Write a script that applies a 10% discount to an item's price. (Using Assignment Operator)\n",
    "\n",
    "price = 100"
   ]
  },
  {
   "cell_type": "code",
   "execution_count": 11,
   "id": "b39a6d54-07cf-4de9-a08a-0e3794c4de5f",
   "metadata": {},
   "outputs": [
    {
     "name": "stdout",
     "output_type": "stream",
     "text": [
      "90.0\n"
     ]
    }
   ],
   "source": [
    "price = 100\n",
    "discount = price * 0.10\n",
    "price -= discount\n",
    "print(price)"
   ]
  },
  {
   "cell_type": "markdown",
   "id": "11073da2-d841-42d5-af18-6b40dc892a22",
   "metadata": {},
   "source": [
    "8- You are managing different customer lists for a subscription service, check if alice@example.com is our both premium and basic customer\n",
    "\n",
    "premium_customers = [\"alice@example.com\", \"charlie@example.com\", \"bob@example.com\"]\n",
    "\n",
    "basic_customers = [\"alex@example.com\", \"david@example.com\", \"chloe@example.com\"]"
   ]
  },
  {
   "cell_type": "code",
   "execution_count": 12,
   "id": "cc0dd632-e15f-4471-b1d3-13bd1f740ba2",
   "metadata": {},
   "outputs": [
    {
     "name": "stdout",
     "output_type": "stream",
     "text": [
      "False\n"
     ]
    }
   ],
   "source": [
    "premium_customers = [\"alice@example.com\",\"charlie@example.com\",\"bob@example.com\"]\n",
    "basic_customers = [\"alex@example.com\",\"david@example.com\",\"chloe@example.com\"]\n",
    "print((\"alice@example.com\" in premium_customers) and (\"alice@example.com\" in basic_customers))"
   ]
  },
  {
   "cell_type": "markdown",
   "id": "8f462772-93bd-4be8-91a0-8a6e08b3fc8c",
   "metadata": {},
   "source": [
    "9. Write a Python program that prompts the user to enter a password and returns True or False based on the following checks:\n",
    "\n",
    "Whether the string contains any uppercase characters.\n",
    "\n",
    "Whether the string contains any lowercase characters.\n",
    "\n",
    "Whether the string contains any spaces.\n",
    "\n",
    "Whether the string contains any special characters (anything other than letters, digits, and spaces).\n",
    "\n",
    "\n",
    "\n",
    "Hint: Use Input function and string methods"
   ]
  },
  {
   "cell_type": "code",
   "execution_count": 4,
   "id": "ca923884-c4f3-4b4b-9f48-c786cf48e1a7",
   "metadata": {},
   "outputs": [
    {
     "name": "stdin",
     "output_type": "stream",
     "text": [
      " User Password has any special Character\n"
     ]
    },
    {
     "name": "stdout",
     "output_type": "stream",
     "text": [
      "User Password has uppercase Charachter: True\n",
      "User Password has lowercase Character: True\n",
      "User Password has any space: False\n",
      "User Password has any special Character: True\n"
     ]
    }
   ],
   "source": [
    "Password=str(input())\n",
    "#Whether the string contains any uppercase characters.\n",
    "print(\"User Password has uppercase Charachter:\",Password != Password.lower())\n",
    "#whether the string contains any lowercase characters.\n",
    "print(\"User Password has lowercase Character:\",Password != Password.upper())\n",
    "#Whether the string contains any spaces.\n",
    "print(\"User Password has any space:\",Password.isspace())\n",
    "#whether the string contains any special character (anything other than letters, digits, and spaces).\n",
    "print(\"User Password has any special Character:\", not Password.isalnum())\n"
   ]
  },
  {
   "cell_type": "markdown",
   "id": "4b8b0339-8cea-4d6e-b061-9d23394daecd",
   "metadata": {},
   "source": [
    "10- You have a product code that follows the format \"SKU-12345-XYZ\". \n",
    "\n",
    "Find the first position of the dash (-).\n",
    "\n",
    "Count the number of dashes (-) in the product code.\n",
    "\n",
    "Remove the \"SKU-\" prefix and \"-XYZ\" suffix from the product code, Extract the numeric part 12345\n",
    "\n",
    "Hint: Use String Methods"
   ]
  },
  {
   "cell_type": "code",
   "execution_count": 5,
   "id": "d3de5708-9018-4379-8f98-ff7195798399",
   "metadata": {},
   "outputs": [
    {
     "name": "stdout",
     "output_type": "stream",
     "text": [
      "code:  SKU-12345-XYZ\n"
     ]
    }
   ],
   "source": [
    "code = \"SKU-12345-XYZ\"\n",
    "print(\"code: \",code)"
   ]
  },
  {
   "cell_type": "code",
   "execution_count": 7,
   "id": "ff82d30f-0eea-4abd-9226-eb91027a10c8",
   "metadata": {},
   "outputs": [
    {
     "name": "stdout",
     "output_type": "stream",
     "text": [
      "first position of dash:  3\n"
     ]
    }
   ],
   "source": [
    "#First position of the dash (-)\n",
    "print(\"first position of dash: \",code.find(\"-\"))"
   ]
  },
  {
   "cell_type": "code",
   "execution_count": 8,
   "id": "a8063922-9b26-4911-8723-3ef76dc23b60",
   "metadata": {},
   "outputs": [
    {
     "name": "stdout",
     "output_type": "stream",
     "text": [
      "number of dashes:  2\n"
     ]
    }
   ],
   "source": [
    "#Count the number of dashes (-) in the product code.\n",
    "print(\"number of dashes: \",code.count(\"-\"))"
   ]
  },
  {
   "cell_type": "code",
   "execution_count": 10,
   "id": "2f315c9e-e26e-48d0-a60a-35bf2982fe0b",
   "metadata": {},
   "outputs": [
    {
     "name": "stdout",
     "output_type": "stream",
     "text": [
      "Numeric Part:  12345\n"
     ]
    }
   ],
   "source": [
    "#Remove the \"SKU-\" prefix and \"-XYZ\" suffix from the prooduct code, Extract the numeric part 12345.\n",
    "remove_prefix_code=code.removeprefix(\"SKU-\")\n",
    "remove_suffix_code=remove_prefix_code.removesuffix(\"-XYZ\")\n",
    "print(\"Numeric Part: \", remove_suffix_code)\n"
   ]
  },
  {
   "cell_type": "code",
   "execution_count": null,
   "id": "05b7936f-7e50-4bcf-9f52-d848f9c2e03e",
   "metadata": {},
   "outputs": [],
   "source": []
  }
 ],
 "metadata": {
  "kernelspec": {
   "display_name": "Python 3 (ipykernel)",
   "language": "python",
   "name": "python3"
  },
  "language_info": {
   "codemirror_mode": {
    "name": "ipython",
    "version": 3
   },
   "file_extension": ".py",
   "mimetype": "text/x-python",
   "name": "python",
   "nbconvert_exporter": "python",
   "pygments_lexer": "ipython3",
   "version": "3.12.7"
  }
 },
 "nbformat": 4,
 "nbformat_minor": 5
}
