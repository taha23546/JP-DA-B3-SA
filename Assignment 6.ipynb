{
 "cells": [
  {
   "cell_type": "markdown",
   "id": "9604551a-4a74-4b05-918e-0bfc5f60b154",
   "metadata": {},
   "source": [
    "1. Question:\n",
    "\n",
    "Imagine a scenario where we have two classes:\n",
    "\n",
    "Person: Represents a person with attributes like name and age, and a method introduce() to introduce the person.\n",
    "\n",
    "Employee: Represents an employee with attributes like employee_id and department, and a method work() to describe the work of the employee.\n",
    "\n",
    "Create a child class Manager that inherits from both Person and Employee. The Manager class should have a method manage() that describes the work the manager does. Instantiate a Manager object and call all methods (introduce(), work(), and manage()).\n",
    "\n",
    "Expected Output:\n",
    "\n",
    "- Hello, my name is John and I am 35 years old.\n",
    "- Employee M123 is working in HR department.\n",
    "- Manager John is managing the team in the HR department.\n"
   ]
  },
  {
   "cell_type": "code",
   "execution_count": 1,
   "id": "6d6d9917-0a9b-45e7-937c-0a1e0d0e54de",
   "metadata": {},
   "outputs": [
    {
     "name": "stdout",
     "output_type": "stream",
     "text": [
      "Hello, my name is John and I am 35 years old.\n",
      "Employee M123 is working in HR department.\n",
      "Manager John is managing the team in the HR department.\n"
     ]
    }
   ],
   "source": [
    "class Person:\n",
    "    def __init__(self, name, age):\n",
    "        self.name = name\n",
    "        self.age = age\n",
    "\n",
    "    def introduce(self):\n",
    "        print(f\"Hello, my name is {self.name} and I am {self.age} years old.\")\n",
    "class Employee:\n",
    "    def __init__(self, employee_id, department):\n",
    "        self.employee_id = employee_id\n",
    "        self.department = department\n",
    "\n",
    "    def work(self):\n",
    "        print(f\"Employee {self.employee_id} is working in {self.department} department.\")\n",
    "class Manager(Person, Employee):\n",
    "    def __init__(self, name, age, employee_id, department):\n",
    "        # Initialize both parent classes\n",
    "        Person.__init__(self, name, age)\n",
    "        Employee.__init__(self, employee_id, department)\n",
    "\n",
    "    def manage(self):\n",
    "        print(f\"Manager {self.name} is managing the team in the {self.department} department.\")\n",
    "\n",
    "manager = Manager(\"John\", 35, \"M123\", \"HR\")\n",
    "manager.introduce()\n",
    "manager.work()\n",
    "manager.manage()"
   ]
  },
  {
   "cell_type": "markdown",
   "id": "3798bb7b-21e9-4664-9844-1a7da0fc4b32",
   "metadata": {},
   "source": [
    "2. Create a class Greeting with a method greet() that can handle different numbers of arguments.\n",
    "\n",
    "- If no argument is passed, it should print \"Hello!\".\n",
    "- If one argument (a name) is passed, it should print \"Hello, <name>!\".\n",
    "- If two arguments (a name and a greeting) are passed, it should print the greeting with the name (e.g., \"Good morning, <name>!\").\n",
    "\n",
    "Simulate method overloading using default arguments or variable-length arguments, and demonstrate the polymorphic behavior by calling greet() with different numbers of arguments.\n",
    "\n",
    "Expected Output:\n",
    "\n",
    "- Hello!\n",
    "- Hello, John!\n",
    "- Good morning, John!\n"
   ]
  },
  {
   "cell_type": "code",
   "execution_count": 2,
   "id": "8704d9fb-b9d7-472e-8f09-fec1250eac7a",
   "metadata": {},
   "outputs": [
    {
     "name": "stdout",
     "output_type": "stream",
     "text": [
      "Hello!\n",
      "Hello, John!\n",
      "Good morning, John!\n"
     ]
    }
   ],
   "source": [
    "class Greeting:\n",
    "    def greet(self, *args):\n",
    "        if len(args) == 0:\n",
    "            print(\"Hello!\")\n",
    "        elif len(args) == 1:\n",
    "            print(f\"Hello, {args[0]}!\")\n",
    "        elif len(args) == 2:\n",
    "            print(f\"{args[1]}, {args[0]}!\")\n",
    "        else:\n",
    "            print(\"Too many arguments passed!\")\n",
    "\n",
    "#Creating an object og Greeting\n",
    "g = Greeting()\n",
    "\n",
    "#Demonstrate polymaric behavior\n",
    "g.greet()                    # No arguments\n",
    "g.greet(\"John\")              # One argument\n",
    "g.greet(\"John\", \"Good morning\")  # Two arguments"
   ]
  },
  {
   "cell_type": "raw",
   "id": "40b063cc-fcb9-4711-b466-7e317bf54477",
   "metadata": {},
   "source": [
    "3. Create a class SecuritySystem to manage a Security PIN. The class should have:\n",
    "\n",
    "- A private attribute __pin to store the PIN.\n",
    "- A method validate_pin(pin) that checks if the input PIN matches the stored one.\n",
    "- A method change_pin(old_pin, new_pin) to allow the user to change their PIN. The method should:\n",
    "    - Ensure the old PIN is correct.\n",
    "    - Ensure the new PIN is a 4-digit number.\n",
    "\n",
    "Demonstrate the following:\n",
    "\n",
    "- Validate the PIN.\n",
    "- Change the PIN with correct and incorrect old PINs, and valid/invalid new PINs.\n",
    "\n",
    "Expected Output:\n",
    "\n",
    "- PIN validated successfully.\n",
    "- Invalid PIN.\n",
    "- PIN changed successfully.\n",
    "- New PIN must be a 4-digit number.\n",
    "- Incorrect old PIN. PIN not changed.\n"
   ]
  },
  {
   "cell_type": "code",
   "execution_count": 3,
   "id": "5f71bab9-e159-4d66-ac8a-694a061a589e",
   "metadata": {},
   "outputs": [
    {
     "name": "stdout",
     "output_type": "stream",
     "text": [
      "PIN validated successfully.\n",
      "Invalid PIN.\n",
      "PIN changed successfully.\n",
      "New PIN must be a 4-digit number.\n",
      "Incorrect old PIN. PIN not changed.\n"
     ]
    }
   ],
   "source": [
    "class SecuritySystem:\n",
    "    def __init__(self, pin):\n",
    "        self.__pin = pin  # Private attribute\n",
    "\n",
    "    def validate_pin(self, pin):\n",
    "        if pin == self.__pin:\n",
    "            print(\"PIN validated successfully.\")\n",
    "            return True\n",
    "        else:\n",
    "            print(\"Invalid PIN.\")\n",
    "            return False\n",
    "\n",
    "    def change_pin(self, old_pin, new_pin):\n",
    "        if old_pin != self.__pin:\n",
    "            print(\"Incorrect old PIN. PIN not changed.\")\n",
    "            return\n",
    "        if not (isinstance(new_pin, int) and 1000 <= new_pin <= 9999):\n",
    "            print(\"New PIN must be a 4-digit number.\")\n",
    "            return\n",
    "        self.__pin = new_pin\n",
    "        print(\"PIN changed successfully.\")\n",
    "\n",
    "# Demonstration\n",
    "system = SecuritySystem(1234)\n",
    "\n",
    "# Test cases\n",
    "system.validate_pin(1234)          # Correct PIN\n",
    "system.validate_pin(1111)          # Incorrect PIN\n",
    "system.change_pin(1234, 5678)      # Correct old PIN, valid new PIN\n",
    "system.change_pin(5678, 999)       # Correct old PIN, invalid new PIN\n",
    "system.change_pin(1111, 8888)      # Incorrect old PIN"
   ]
  },
  {
   "cell_type": "markdown",
   "id": "2057a83d-3ff3-4b09-bfac-2fffb1d11f78",
   "metadata": {},
   "source": [
    "4. Use abstraction to model different geometric shapes such as circle and rectangle.\n",
    "\n",
    "Instructions:\n",
    "\n",
    "- Create an abstract class Shape with a method area to calculate the area.\n",
    "- Create concrete classes Circle and Rectangle that implement the area method.\n",
    "- Create instances of these shapes and calculate their areas.\n",
    "\n",
    "Expected Output:\n",
    "\n",
    "- Area of Circle: 78.5\n",
    "- Area of Rectangle: 24\n"
   ]
  },
  {
   "cell_type": "code",
   "execution_count": 5,
   "id": "98fc07be-0786-4033-8059-ec481cfeb299",
   "metadata": {},
   "outputs": [
    {
     "name": "stdout",
     "output_type": "stream",
     "text": [
      "Area of Circle: 78.5\n",
      "Area of Rectangle: 24\n"
     ]
    }
   ],
   "source": [
    "from abc import ABC, abstractmethod\n",
    "import math\n",
    "\n",
    "# Abstract class\n",
    "class Shape(ABC):\n",
    "    @abstractmethod\n",
    "    def area(self):\n",
    "        pass\n",
    "\n",
    "# Circle class\n",
    "class Circle(Shape):\n",
    "    def __init__(self, radius):\n",
    "        self.radius = radius\n",
    "\n",
    "    def area(self):\n",
    "        return round(math.pi * self.radius ** 2, 1)\n",
    "\n",
    "# Rectangle class\n",
    "class Rectangle(Shape):\n",
    "    def __init__(self, width, height):\n",
    "        self.width = width\n",
    "        self.height = height\n",
    "\n",
    "    def area(self):\n",
    "        return self.width * self.height\n",
    "\n",
    "# Create instances and calculate areas\n",
    "circle = Circle(5)\n",
    "rectangle = Rectangle(4, 6)\n",
    "\n",
    "print(\"Area of Circle:\", circle.area())\n",
    "print(\"Area of Rectangle:\", rectangle.area())"
   ]
  },
  {
   "cell_type": "markdown",
   "id": "fe1910db-3ad0-4b05-bd0b-24c31e935dfe",
   "metadata": {},
   "source": [
    "5. Create a class Notification with a method send(), which prints \"Sending notification\".\n",
    "Then, create two subclasses:\n",
    "\n",
    "EmailNotification: Override the send() method to print \"Sending email\".\n",
    "\n",
    "SMSNotification: Override the send() method to print \"Sending SMS\".\n",
    "\n",
    "Demonstrate method overriding calling send() on instances of EmailNotification and SMSNotification."
   ]
  },
  {
   "cell_type": "code",
   "execution_count": 6,
   "id": "0f90fc21-d138-4f4f-b217-b0938e71d856",
   "metadata": {},
   "outputs": [
    {
     "name": "stdout",
     "output_type": "stream",
     "text": [
      "Sending email\n",
      "Sending SMS\n"
     ]
    }
   ],
   "source": [
    "# Base class\n",
    "class Notification:\n",
    "    def send(self):\n",
    "        print(\"Sending notification\")\n",
    "\n",
    "# Subclass for email\n",
    "class EmailNotification(Notification):\n",
    "    def send(self):\n",
    "        print(\"Sending email\")\n",
    "\n",
    "# Subclass for SMS\n",
    "class SMSNotification(Notification):\n",
    "    def send(self):\n",
    "        print(\"Sending SMS\")\n",
    "\n",
    "# Demonstration\n",
    "email = EmailNotification()\n",
    "sms = SMSNotification()\n",
    "\n",
    "email.send()  # Calls overridden method in EmailNotification\n",
    "sms.send()    # Calls overridden method in SMSNotification"
   ]
  },
  {
   "cell_type": "code",
   "execution_count": null,
   "id": "46c7fbc8-bacc-444b-8104-40057ec53f20",
   "metadata": {},
   "outputs": [],
   "source": []
  }
 ],
 "metadata": {
  "kernelspec": {
   "display_name": "Python 3 (ipykernel)",
   "language": "python",
   "name": "python3"
  },
  "language_info": {
   "codemirror_mode": {
    "name": "ipython",
    "version": 3
   },
   "file_extension": ".py",
   "mimetype": "text/x-python",
   "name": "python",
   "nbconvert_exporter": "python",
   "pygments_lexer": "ipython3",
   "version": "3.12.7"
  }
 },
 "nbformat": 4,
 "nbformat_minor": 5
}
