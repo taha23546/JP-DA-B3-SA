{
 "cells": [
  {
   "cell_type": "code",
   "execution_count": 1,
   "id": "c9a42657-2884-43f7-8900-c31fd8668800",
   "metadata": {},
   "outputs": [],
   "source": [
    "a=15\n",
    "b=4"
   ]
  },
  {
   "cell_type": "code",
   "execution_count": 2,
   "id": "51ec81e4-3b7c-409c-adba-1bc58331b918",
   "metadata": {},
   "outputs": [
    {
     "data": {
      "text/plain": [
       "19"
      ]
     },
     "execution_count": 2,
     "metadata": {},
     "output_type": "execute_result"
    }
   ],
   "source": [
    "a+b"
   ]
  },
  {
   "cell_type": "code",
   "execution_count": 3,
   "id": "ae99c6c3-803a-4a92-9aac-557cb3941a67",
   "metadata": {},
   "outputs": [
    {
     "data": {
      "text/plain": [
       "11"
      ]
     },
     "execution_count": 3,
     "metadata": {},
     "output_type": "execute_result"
    }
   ],
   "source": [
    "a-b"
   ]
  },
  {
   "cell_type": "code",
   "execution_count": 4,
   "id": "afba5a9f-36e4-4e77-898a-33d38fea6850",
   "metadata": {},
   "outputs": [
    {
     "data": {
      "text/plain": [
       "60"
      ]
     },
     "execution_count": 4,
     "metadata": {},
     "output_type": "execute_result"
    }
   ],
   "source": [
    "a*b"
   ]
  },
  {
   "cell_type": "markdown",
   "id": "b1a7c11f-7769-4bac-835b-3815890408e1",
   "metadata": {},
   "source": [
    "Convert the following: (num1 = 10,num2 = 5.6,num3 = 4.43)"
   ]
  },
  {
   "cell_type": "code",
   "execution_count": 1,
   "id": "6f7db524-b993-415e-9d32-45e0f54c5a61",
   "metadata": {},
   "outputs": [
    {
     "data": {
      "text/plain": [
       "10.0"
      ]
     },
     "execution_count": 1,
     "metadata": {},
     "output_type": "execute_result"
    }
   ],
   "source": [
    "num1 = 10\n",
    "float(num1)"
   ]
  },
  {
   "cell_type": "code",
   "execution_count": 3,
   "id": "dd1ab192-d29c-4418-bd52-6d0edcafd538",
   "metadata": {},
   "outputs": [
    {
     "data": {
      "text/plain": [
       "5"
      ]
     },
     "execution_count": 3,
     "metadata": {},
     "output_type": "execute_result"
    }
   ],
   "source": [
    "num2 = 5.6\n",
    "num3 = 4.43\n",
    "int(num2)"
   ]
  },
  {
   "cell_type": "code",
   "execution_count": 4,
   "id": "54f3bd92-d57a-44e1-a8d2-91ed8ffd880f",
   "metadata": {},
   "outputs": [
    {
     "data": {
      "text/plain": [
       "4"
      ]
     },
     "execution_count": 4,
     "metadata": {},
     "output_type": "execute_result"
    }
   ],
   "source": [
    "int(num3)"
   ]
  },
  {
   "cell_type": "code",
   "execution_count": 5,
   "id": "4874a971-616a-4026-9226-76f52d34e006",
   "metadata": {},
   "outputs": [
    {
     "ename": "AttributeError",
     "evalue": "type object 'float' has no attribute 'toStrinng'",
     "output_type": "error",
     "traceback": [
      "\u001b[1;31m---------------------------------------------------------------------------\u001b[0m",
      "\u001b[1;31mAttributeError\u001b[0m                            Traceback (most recent call last)",
      "Cell \u001b[1;32mIn[5], line 1\u001b[0m\n\u001b[1;32m----> 1\u001b[0m \u001b[38;5;28mfloat\u001b[39m\u001b[38;5;241m.\u001b[39mtoStrinng(num2)\n",
      "\u001b[1;31mAttributeError\u001b[0m: type object 'float' has no attribute 'toStrinng'"
     ]
    }
   ],
   "source": [
    "float.toStrinng(num2)"
   ]
  },
  {
   "cell_type": "code",
   "execution_count": 6,
   "id": "5a982ce6-2402-4493-8fad-39b34eda6af4",
   "metadata": {},
   "outputs": [
    {
     "data": {
      "text/plain": [
       "'5.6'"
      ]
     },
     "execution_count": 6,
     "metadata": {},
     "output_type": "execute_result"
    }
   ],
   "source": [
    "str(num2)"
   ]
  },
  {
   "cell_type": "code",
   "execution_count": 7,
   "id": "fd036e7d-8ffd-42bb-8dd0-c42a00b33d80",
   "metadata": {},
   "outputs": [
    {
     "data": {
      "text/plain": [
       "'4.43'"
      ]
     },
     "execution_count": 7,
     "metadata": {},
     "output_type": "execute_result"
    }
   ],
   "source": [
    "str(num3)"
   ]
  },
  {
   "cell_type": "markdown",
   "id": "6551868c-b24e-4f21-9652-9f25ba0edd11",
   "metadata": {},
   "source": [
    "3. fruits = [\"apple\", \"banana\", \"cherry\", \"coconut\", \"pineapple\", \"mango\", \"orange\"]\n",
    "\n",
    "Print below using indexing:\n",
    "\n",
    "- The first fruit\n",
    "\n",
    "- The last fruit (negative indexing)\n",
    "\n",
    "- The fourth fruit"
   ]
  },
  {
   "cell_type": "code",
   "execution_count": 8,
   "id": "a918cca3-2750-4522-8db6-3daee5c8cbdd",
   "metadata": {},
   "outputs": [],
   "source": [
    "fruits = [\"apple\",\"banana\",\"cherry\",\"coconut\",\"pineapple\",\"mango\",\"orange\"]"
   ]
  },
  {
   "cell_type": "code",
   "execution_count": 9,
   "id": "9bdb1223-1d3a-456d-8b68-56fac0b5684c",
   "metadata": {},
   "outputs": [
    {
     "data": {
      "text/plain": [
       "['apple', 'banana', 'cherry', 'coconut', 'pineapple', 'mango', 'orange']"
      ]
     },
     "execution_count": 9,
     "metadata": {},
     "output_type": "execute_result"
    }
   ],
   "source": [
    "fruits"
   ]
  },
  {
   "cell_type": "code",
   "execution_count": 10,
   "id": "e218ff1e-0f57-480c-84fc-28acb470eb20",
   "metadata": {},
   "outputs": [
    {
     "name": "stdout",
     "output_type": "stream",
     "text": [
      "apple\n"
     ]
    }
   ],
   "source": [
    "print(fruits[0])"
   ]
  },
  {
   "cell_type": "code",
   "execution_count": 12,
   "id": "9bf8af9e-4057-4cc2-8090-cc91df99b487",
   "metadata": {},
   "outputs": [
    {
     "name": "stdout",
     "output_type": "stream",
     "text": [
      "orange\n"
     ]
    }
   ],
   "source": [
    "print(fruits[-1])"
   ]
  },
  {
   "cell_type": "code",
   "execution_count": 13,
   "id": "0616e251-c999-4399-8012-3915a12217d8",
   "metadata": {},
   "outputs": [
    {
     "name": "stdout",
     "output_type": "stream",
     "text": [
      "coconut\n"
     ]
    }
   ],
   "source": [
    "print(fruits[3])"
   ]
  },
  {
   "cell_type": "markdown",
   "id": "bdaf0027-02ea-41e2-be92-3c57a51e46df",
   "metadata": {},
   "source": [
    "4. List Slicing\n",
    "\n",
    "numbers = [10, 20, 30, 40, 50]\n",
    "\n",
    "Print:\n",
    "\n",
    "- First three elements\n",
    "\n",
    "- Last two elements\n",
    "\n",
    "- Print all elements except the first one\n",
    "\n",
    "- Print all elements except the last one\n",
    "\n",
    "- Print the list in reverse using slicing\n",
    "\n",
    "-  Print every second element"
   ]
  },
  {
   "cell_type": "code",
   "execution_count": 14,
   "id": "ed41de28-63f8-4d05-841c-9f347b96e14b",
   "metadata": {},
   "outputs": [],
   "source": [
    "numbers = [10,20,30,40,50]"
   ]
  },
  {
   "cell_type": "code",
   "execution_count": 15,
   "id": "fbb90ca7-5982-4b7d-bb66-7a33f149110e",
   "metadata": {},
   "outputs": [
    {
     "data": {
      "text/plain": [
       "[10, 20, 30, 40, 50]"
      ]
     },
     "execution_count": 15,
     "metadata": {},
     "output_type": "execute_result"
    }
   ],
   "source": [
    "numbers"
   ]
  },
  {
   "cell_type": "code",
   "execution_count": 16,
   "id": "8813b225-de10-4637-895f-dc187db90ede",
   "metadata": {},
   "outputs": [
    {
     "name": "stdout",
     "output_type": "stream",
     "text": [
      "[10, 20, 30]\n"
     ]
    }
   ],
   "source": [
    "print(numbers[:3])"
   ]
  },
  {
   "cell_type": "code",
   "execution_count": 17,
   "id": "deb3d81c-78f9-4c1f-a5db-64adba32bdac",
   "metadata": {},
   "outputs": [
    {
     "name": "stdout",
     "output_type": "stream",
     "text": [
      "[40, 50]\n"
     ]
    }
   ],
   "source": [
    "print(numbers[3:])"
   ]
  },
  {
   "cell_type": "code",
   "execution_count": 22,
   "id": "20cc61ec-9263-4fba-b199-f6b481b01558",
   "metadata": {},
   "outputs": [
    {
     "name": "stdout",
     "output_type": "stream",
     "text": [
      "[20, 30, 40, 50]\n"
     ]
    }
   ],
   "source": [
    "print(numbers[1:])"
   ]
  },
  {
   "cell_type": "code",
   "execution_count": 24,
   "id": "e2c6a1c6-ab83-42c7-9c8c-a12063a760a3",
   "metadata": {},
   "outputs": [
    {
     "name": "stdout",
     "output_type": "stream",
     "text": [
      "[10, 20, 30, 40]\n"
     ]
    }
   ],
   "source": [
    "print(numbers[:4])"
   ]
  },
  {
   "cell_type": "code",
   "execution_count": 25,
   "id": "bab994c5-f3d2-4651-bcc4-463b1efcf514",
   "metadata": {},
   "outputs": [
    {
     "name": "stdout",
     "output_type": "stream",
     "text": [
      "[50, 40, 30, 20, 10]\n"
     ]
    }
   ],
   "source": [
    "print(numbers[::-1])"
   ]
  },
  {
   "cell_type": "code",
   "execution_count": 27,
   "id": "a4de35fb-332e-4ba2-a8d5-38a256640fdc",
   "metadata": {},
   "outputs": [
    {
     "name": "stdout",
     "output_type": "stream",
     "text": [
      "[10, 30, 50]\n"
     ]
    }
   ],
   "source": [
    "print(numbers[::2])"
   ]
  },
  {
   "cell_type": "markdown",
   "id": "a8ec2691-b3de-4ca6-b5e5-2c7c72a03eae",
   "metadata": {},
   "source": [
    "5. Add the number 10 to the end of the list using method.\n",
    "\n",
    "nums = [1, 2, 3]"
   ]
  },
  {
   "cell_type": "code",
   "execution_count": 28,
   "id": "be404c19-2a38-4045-a9a7-83d1f704a03c",
   "metadata": {},
   "outputs": [],
   "source": [
    "nums = [1,2,3]"
   ]
  },
  {
   "cell_type": "code",
   "execution_count": 30,
   "id": "9ec22317-84e6-487b-9362-cedfc25e5bc9",
   "metadata": {},
   "outputs": [
    {
     "data": {
      "text/plain": [
       "[1, 2, 3]"
      ]
     },
     "execution_count": 30,
     "metadata": {},
     "output_type": "execute_result"
    }
   ],
   "source": [
    "nums"
   ]
  },
  {
   "cell_type": "code",
   "execution_count": 31,
   "id": "493af2c9-0961-4550-a125-3dcf25d683dc",
   "metadata": {},
   "outputs": [],
   "source": [
    "nums.append(10)"
   ]
  },
  {
   "cell_type": "code",
   "execution_count": 32,
   "id": "619a6db2-c00b-46b4-950d-7ef3a1711a2a",
   "metadata": {},
   "outputs": [
    {
     "name": "stdout",
     "output_type": "stream",
     "text": [
      "[1, 2, 3, 10]\n"
     ]
    }
   ],
   "source": [
    "print(nums)"
   ]
  },
  {
   "cell_type": "code",
   "execution_count": 33,
   "id": "06c872b6-6a80-4a49-a457-4c21cb9173f8",
   "metadata": {},
   "outputs": [
    {
     "ename": "SyntaxError",
     "evalue": "invalid syntax (133009144.py, line 1)",
     "output_type": "error",
     "traceback": [
      "\u001b[1;36m  Cell \u001b[1;32mIn[33], line 1\u001b[1;36m\u001b[0m\n\u001b[1;33m    6. Insert the number 99 at index 1 using method.\u001b[0m\n\u001b[1;37m       ^\u001b[0m\n\u001b[1;31mSyntaxError\u001b[0m\u001b[1;31m:\u001b[0m invalid syntax\n"
     ]
    }
   ],
   "source": [
    "6. Insert the number 99 at index 1 using method.\n",
    "\n",
    "nums = [1, 2, 3]"
   ]
  },
  {
   "cell_type": "code",
   "execution_count": 34,
   "id": "61a8635c-734a-415e-abbc-e1ac39fc0859",
   "metadata": {},
   "outputs": [
    {
     "data": {
      "text/plain": [
       "[1, 2, 3, 10]"
      ]
     },
     "execution_count": 34,
     "metadata": {},
     "output_type": "execute_result"
    }
   ],
   "source": [
    "nums"
   ]
  },
  {
   "cell_type": "code",
   "execution_count": 35,
   "id": "61084289-2df3-4997-8479-31570b203d06",
   "metadata": {},
   "outputs": [],
   "source": [
    "nums.insert(1,99)"
   ]
  },
  {
   "cell_type": "code",
   "execution_count": 36,
   "id": "6738a526-3c19-4727-b2c8-0a165e580d25",
   "metadata": {},
   "outputs": [
    {
     "name": "stdout",
     "output_type": "stream",
     "text": [
      "[1, 99, 2, 3, 10]\n"
     ]
    }
   ],
   "source": [
    "print(nums)"
   ]
  },
  {
   "cell_type": "markdown",
   "id": "7d0f2cc7-de59-483c-88ab-59d84d03321e",
   "metadata": {},
   "source": [
    "7.  Add the elements of another list [4, 5] to the original list using method\n",
    "\n",
    "nums = [1, 2, 3]"
   ]
  },
  {
   "cell_type": "code",
   "execution_count": 37,
   "id": "dd3c82e5-1132-410e-afe4-50f33276d178",
   "metadata": {},
   "outputs": [],
   "source": [
    "nums = [1,2,3]"
   ]
  },
  {
   "cell_type": "code",
   "execution_count": 38,
   "id": "f1188a03-4242-43e8-b9ed-94dbda6bcd69",
   "metadata": {},
   "outputs": [
    {
     "data": {
      "text/plain": [
       "[1, 2, 3]"
      ]
     },
     "execution_count": 38,
     "metadata": {},
     "output_type": "execute_result"
    }
   ],
   "source": [
    "nums"
   ]
  },
  {
   "cell_type": "code",
   "execution_count": 39,
   "id": "8e5c0e26-6652-47bd-a81c-f709295ca7d4",
   "metadata": {},
   "outputs": [],
   "source": [
    "nums.extend([4,5])"
   ]
  },
  {
   "cell_type": "code",
   "execution_count": 40,
   "id": "113e759e-c30c-41f6-8ced-2aca4a24eeaa",
   "metadata": {},
   "outputs": [
    {
     "name": "stdout",
     "output_type": "stream",
     "text": [
      "[1, 2, 3, 4, 5]\n"
     ]
    }
   ],
   "source": [
    "print(nums)"
   ]
  },
  {
   "cell_type": "markdown",
   "id": "f416d1e8-29b7-420f-aca7-9674d643cf20",
   "metadata": {},
   "source": [
    "8.  Sort the list in ascending order using method\n",
    "\n",
    "nums = [4, 1, 3, 2]"
   ]
  },
  {
   "cell_type": "code",
   "execution_count": 41,
   "id": "a144b5ed-9c72-4e5a-a3bd-d4cfd60cce08",
   "metadata": {},
   "outputs": [],
   "source": [
    "nums = [4,1,3,2]"
   ]
  },
  {
   "cell_type": "code",
   "execution_count": 42,
   "id": "271da3fd-efe5-43eb-a526-7870e0f5c111",
   "metadata": {},
   "outputs": [
    {
     "data": {
      "text/plain": [
       "[4, 1, 3, 2]"
      ]
     },
     "execution_count": 42,
     "metadata": {},
     "output_type": "execute_result"
    }
   ],
   "source": [
    "nums"
   ]
  },
  {
   "cell_type": "code",
   "execution_count": 43,
   "id": "62998867-9c41-419a-8746-a361b9954183",
   "metadata": {},
   "outputs": [],
   "source": [
    "nums.sort()"
   ]
  },
  {
   "cell_type": "code",
   "execution_count": 44,
   "id": "53c5b139-6fa2-482c-82bc-cdbe69cb7af2",
   "metadata": {},
   "outputs": [
    {
     "name": "stdout",
     "output_type": "stream",
     "text": [
      "[1, 2, 3, 4]\n"
     ]
    }
   ],
   "source": [
    "print(nums)"
   ]
  },
  {
   "cell_type": "markdown",
   "id": "0f6e9f59-55ce-41ed-8db6-29b71efe514e",
   "metadata": {},
   "source": [
    "9. A customer orders several food items. Add the items to a list and then:\n",
    "\n",
    "order = [\"burger\", \"fries\", \"coke\"]\n",
    "\n",
    "- Add a new item \"ice cream\" using append()\n",
    "\n",
    "- Remove an item \"biryani\" using remove()\n",
    "\n",
    "- Show the final order"
   ]
  },
  {
   "cell_type": "code",
   "execution_count": 45,
   "id": "6769ca90-dd47-4a50-a14c-a6f08107320e",
   "metadata": {},
   "outputs": [],
   "source": [
    "order = [\"burger\",\"fries\",\"coke\"]"
   ]
  },
  {
   "cell_type": "code",
   "execution_count": 46,
   "id": "f2f0c371-fb19-43e0-8e36-3e4a64595a61",
   "metadata": {},
   "outputs": [
    {
     "data": {
      "text/plain": [
       "['burger', 'fries', 'coke']"
      ]
     },
     "execution_count": 46,
     "metadata": {},
     "output_type": "execute_result"
    }
   ],
   "source": [
    "order"
   ]
  },
  {
   "cell_type": "code",
   "execution_count": 47,
   "id": "5c725007-8361-4360-ac44-8dda6128c146",
   "metadata": {},
   "outputs": [],
   "source": [
    "order.append(\"ice cream\")"
   ]
  },
  {
   "cell_type": "code",
   "execution_count": 48,
   "id": "2a55085c-079b-4a27-9a3b-6a3a469db142",
   "metadata": {},
   "outputs": [
    {
     "name": "stdout",
     "output_type": "stream",
     "text": [
      "['burger', 'fries', 'coke', 'ice cream']\n"
     ]
    }
   ],
   "source": [
    "print(order)"
   ]
  },
  {
   "cell_type": "code",
   "execution_count": 49,
   "id": "53c26d4f-87c0-45c0-b8d6-272267295f2f",
   "metadata": {},
   "outputs": [],
   "source": [
    "order = ['burger', 'fries', 'coke', 'ice cream','biryani']"
   ]
  },
  {
   "cell_type": "code",
   "execution_count": 50,
   "id": "a2521108-05b6-43db-9d52-9846bbe8c6e2",
   "metadata": {},
   "outputs": [
    {
     "data": {
      "text/plain": [
       "['burger', 'fries', 'coke', 'ice cream', 'biryani']"
      ]
     },
     "execution_count": 50,
     "metadata": {},
     "output_type": "execute_result"
    }
   ],
   "source": [
    "order"
   ]
  },
  {
   "cell_type": "code",
   "execution_count": 52,
   "id": "422983af-d23d-4fae-8d36-18592d283f38",
   "metadata": {},
   "outputs": [],
   "source": [
    "order.remove('biryani')"
   ]
  },
  {
   "cell_type": "code",
   "execution_count": 53,
   "id": "026eab3f-e7f4-461d-a9f6-e3c0f640e5d7",
   "metadata": {},
   "outputs": [
    {
     "data": {
      "text/plain": [
       "['burger', 'fries', 'coke', 'ice cream']"
      ]
     },
     "execution_count": 53,
     "metadata": {},
     "output_type": "execute_result"
    }
   ],
   "source": [
    "order"
   ]
  },
  {
   "cell_type": "markdown",
   "id": "0d8d4226-a5f1-4372-90c7-2f2e1383d972",
   "metadata": {},
   "source": [
    "10. Track passengers on a bus:\n",
    "\n",
    "passengers = [\"Ali\", \"Zara\", \"Ahmed\"]\n",
    "\n",
    "\n",
    "- Insert a new passenger \"Sara\" at position 2\n",
    "\n",
    "- Remove passesnger who got off \"Zara\"\n",
    "\n",
    "- Reverse the order to show who entered first"
   ]
  },
  {
   "cell_type": "code",
   "execution_count": 54,
   "id": "10fc80b1-d7f8-45c7-a4a7-5c651b431171",
   "metadata": {},
   "outputs": [],
   "source": [
    "passengers = [\"Ali\",\"Zara\",\"Ahmed\"]"
   ]
  },
  {
   "cell_type": "code",
   "execution_count": 55,
   "id": "937c1a97-3cde-4eec-b74b-8e02acadb1ef",
   "metadata": {},
   "outputs": [
    {
     "data": {
      "text/plain": [
       "['Ali', 'Zara', 'Ahmed']"
      ]
     },
     "execution_count": 55,
     "metadata": {},
     "output_type": "execute_result"
    }
   ],
   "source": [
    "passengers"
   ]
  },
  {
   "cell_type": "code",
   "execution_count": 58,
   "id": "bd4a0ead-c5f8-4001-8812-f0c38940d176",
   "metadata": {},
   "outputs": [],
   "source": [
    "passengers.insert(1,\"Sara\")"
   ]
  },
  {
   "cell_type": "code",
   "execution_count": 57,
   "id": "f0dbce43-54b2-4094-ba26-6e58f4b50a49",
   "metadata": {},
   "outputs": [
    {
     "data": {
      "text/plain": [
       "['Ali', 'Zara', 'Sara', 'Ahmed']"
      ]
     },
     "execution_count": 57,
     "metadata": {},
     "output_type": "execute_result"
    }
   ],
   "source": [
    "passengers"
   ]
  },
  {
   "cell_type": "code",
   "execution_count": 59,
   "id": "7ba804a6-3cc0-4a91-81d6-9d0bbe12dfdf",
   "metadata": {},
   "outputs": [
    {
     "data": {
      "text/plain": [
       "['Ali', 'Sara', 'Zara', 'Sara', 'Ahmed']"
      ]
     },
     "execution_count": 59,
     "metadata": {},
     "output_type": "execute_result"
    }
   ],
   "source": [
    "passengers"
   ]
  },
  {
   "cell_type": "code",
   "execution_count": 60,
   "id": "f3956149-798c-47af-aa26-20ffae5e9964",
   "metadata": {},
   "outputs": [
    {
     "data": {
      "text/plain": [
       "['Ali', 'Sara', 'Zara', 'Sara', 'Ahmed']"
      ]
     },
     "execution_count": 60,
     "metadata": {},
     "output_type": "execute_result"
    }
   ],
   "source": [
    "passengers"
   ]
  },
  {
   "cell_type": "code",
   "execution_count": 61,
   "id": "918f1724-7e18-43e7-844c-e4cdf8c305f2",
   "metadata": {},
   "outputs": [],
   "source": [
    "passengers.remove('Zara')"
   ]
  },
  {
   "cell_type": "code",
   "execution_count": 62,
   "id": "b1b10412-ccc4-4936-8b0d-af1d74b75594",
   "metadata": {},
   "outputs": [
    {
     "data": {
      "text/plain": [
       "['Ali', 'Sara', 'Sara', 'Ahmed']"
      ]
     },
     "execution_count": 62,
     "metadata": {},
     "output_type": "execute_result"
    }
   ],
   "source": [
    "passengers"
   ]
  },
  {
   "cell_type": "code",
   "execution_count": 65,
   "id": "e76a05af-1485-450e-995b-a54e5e888714",
   "metadata": {},
   "outputs": [],
   "source": [
    "passengers.remove('Sara')"
   ]
  },
  {
   "cell_type": "code",
   "execution_count": 66,
   "id": "e3693134-0ef1-4a9b-98f4-56c95f36faa4",
   "metadata": {},
   "outputs": [
    {
     "data": {
      "text/plain": [
       "['Ali', 'Sara', 'Ahmed']"
      ]
     },
     "execution_count": 66,
     "metadata": {},
     "output_type": "execute_result"
    }
   ],
   "source": [
    "passengers"
   ]
  },
  {
   "cell_type": "code",
   "execution_count": 67,
   "id": "4b5ac782-b8d4-4367-a46d-f24202a48207",
   "metadata": {},
   "outputs": [],
   "source": [
    "passengers.reverse()"
   ]
  },
  {
   "cell_type": "code",
   "execution_count": 68,
   "id": "5a4531f3-0bb0-4e17-b0bb-272907740855",
   "metadata": {},
   "outputs": [
    {
     "data": {
      "text/plain": [
       "['Ahmed', 'Sara', 'Ali']"
      ]
     },
     "execution_count": 68,
     "metadata": {},
     "output_type": "execute_result"
    }
   ],
   "source": [
    "passengers"
   ]
  },
  {
   "cell_type": "code",
   "execution_count": null,
   "id": "5d176f65-e228-4367-a6d0-752039bb6c6d",
   "metadata": {},
   "outputs": [],
   "source": []
  }
 ],
 "metadata": {
  "kernelspec": {
   "display_name": "Python 3 (ipykernel)",
   "language": "python",
   "name": "python3"
  },
  "language_info": {
   "codemirror_mode": {
    "name": "ipython",
    "version": 3
   },
   "file_extension": ".py",
   "mimetype": "text/x-python",
   "name": "python",
   "nbconvert_exporter": "python",
   "pygments_lexer": "ipython3",
   "version": "3.12.7"
  }
 },
 "nbformat": 4,
 "nbformat_minor": 5
}
