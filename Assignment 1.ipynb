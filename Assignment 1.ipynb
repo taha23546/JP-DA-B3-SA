{
 "cells": [
  {
   "cell_type": "raw",
   "id": "661f0bdb-8591-41b4-9e83-8f8b025de402",
   "metadata": {},
   "source": [
    "1. Write a program that takes two numbers (a = 15 , b = 4) and prints their:\n",
    "\n",
    "\n",
    "- Sum\n",
    "\n",
    "- Difference\n",
    "\n",
    "- Product\n",
    "\n",
    "- Division\n",
    "\n",
    "- Floor Division\n",
    "\n",
    "- Modulus\n"
   ]
  },
  {
   "cell_type": "code",
   "execution_count": 1,
   "id": "6585afa6-c233-4d36-b194-6f06e63ac5d1",
   "metadata": {},
   "outputs": [
    {
     "name": "stdout",
     "output_type": "stream",
     "text": [
      "15\n",
      "4\n"
     ]
    }
   ],
   "source": [
    "a=15\n",
    "b=4\n",
    "print(a)\n",
    "print(b)"
   ]
  },
  {
   "cell_type": "code",
   "execution_count": 3,
   "id": "1c1159b1-a58e-4dbd-bdf5-be458d63462e",
   "metadata": {},
   "outputs": [
    {
     "data": {
      "text/plain": [
       "19"
      ]
     },
     "execution_count": 3,
     "metadata": {},
     "output_type": "execute_result"
    }
   ],
   "source": [
    "#Sum\n",
    "sum=a+b\n",
    "sum"
   ]
  },
  {
   "cell_type": "code",
   "execution_count": 5,
   "id": "1aea5741-bd35-494f-a810-85fca631177c",
   "metadata": {},
   "outputs": [
    {
     "data": {
      "text/plain": [
       "11"
      ]
     },
     "execution_count": 5,
     "metadata": {},
     "output_type": "execute_result"
    }
   ],
   "source": [
    "#difference\n",
    "diff=a-b\n",
    "diff"
   ]
  },
  {
   "cell_type": "code",
   "execution_count": null,
   "id": "991b9e9c-b3b7-4702-b735-8cf04458ef8c",
   "metadata": {},
   "outputs": [],
   "source": []
  },
  {
   "cell_type": "code",
   "execution_count": 6,
   "id": "7fe2616f-5696-4467-b8a6-3f2195071a13",
   "metadata": {},
   "outputs": [
    {
     "data": {
      "text/plain": [
       "60"
      ]
     },
     "execution_count": 6,
     "metadata": {},
     "output_type": "execute_result"
    }
   ],
   "source": [
    "#Product\n",
    "Prod=a*b\n",
    "Prod"
   ]
  },
  {
   "cell_type": "code",
   "execution_count": 7,
   "id": "1d68ff63-c5da-4561-b892-03dd166a1f6d",
   "metadata": {},
   "outputs": [
    {
     "data": {
      "text/plain": [
       "3.75"
      ]
     },
     "execution_count": 7,
     "metadata": {},
     "output_type": "execute_result"
    }
   ],
   "source": [
    "#Division\n",
    "div=a/b\n",
    "div"
   ]
  },
  {
   "cell_type": "code",
   "execution_count": 8,
   "id": "687221c4-14d8-4f49-8636-3de05b009028",
   "metadata": {},
   "outputs": [
    {
     "data": {
      "text/plain": [
       "3"
      ]
     },
     "execution_count": 8,
     "metadata": {},
     "output_type": "execute_result"
    }
   ],
   "source": [
    "#Floor Division\n",
    "FDiv=a//b\n",
    "FDiv"
   ]
  },
  {
   "cell_type": "code",
   "execution_count": 9,
   "id": "4e7a7155-d5cc-408b-b920-e59a82f9803c",
   "metadata": {},
   "outputs": [
    {
     "data": {
      "text/plain": [
       "3"
      ]
     },
     "execution_count": 9,
     "metadata": {},
     "output_type": "execute_result"
    }
   ],
   "source": [
    "#Modulus\n",
    "Mod=a%b\n",
    "Mod"
   ]
  },
  {
   "cell_type": "raw",
   "id": "b2ca3c5c-7a58-4165-a7f8-39397f3928af",
   "metadata": {},
   "source": [
    "2. Convert the following: \n",
    "(num1 = 10, num2 = 5.6, num3 = 4.43)\n",
    "\n",
    "- Integer to float\n",
    "\n",
    "- Float to integer\n",
    "\n",
    "- Float to String"
   ]
  },
  {
   "cell_type": "code",
   "execution_count": 10,
   "id": "223b0a42-c415-42ca-93a4-a5635b9d5064",
   "metadata": {},
   "outputs": [
    {
     "name": "stdout",
     "output_type": "stream",
     "text": [
      "10\n",
      "5.6\n",
      "4.43\n"
     ]
    }
   ],
   "source": [
    "num1=10\n",
    "num2=5.6\n",
    "num3=4.43\n",
    "print(num1)\n",
    "print(num2)\n",
    "print(num3)"
   ]
  },
  {
   "cell_type": "code",
   "execution_count": 13,
   "id": "076b41d5-2a63-4e8d-817d-fb48f382eb75",
   "metadata": {},
   "outputs": [
    {
     "data": {
      "text/plain": [
       "10.0"
      ]
     },
     "execution_count": 13,
     "metadata": {},
     "output_type": "execute_result"
    }
   ],
   "source": [
    "#Intger to Float\n",
    "flt=float(num1)\n",
    "flt"
   ]
  },
  {
   "cell_type": "code",
   "execution_count": 15,
   "id": "f56543d5-a0a4-4882-aeb9-e2f5278d6ce6",
   "metadata": {},
   "outputs": [
    {
     "data": {
      "text/plain": [
       "5"
      ]
     },
     "execution_count": 15,
     "metadata": {},
     "output_type": "execute_result"
    }
   ],
   "source": [
    "#Float to Integer\n",
    "Inte=int(num2)\n",
    "Inte"
   ]
  },
  {
   "cell_type": "code",
   "execution_count": 16,
   "id": "027336ff-a192-4eb7-856e-e08ef4d364e7",
   "metadata": {},
   "outputs": [
    {
     "data": {
      "text/plain": [
       "'4.43'"
      ]
     },
     "execution_count": 16,
     "metadata": {},
     "output_type": "execute_result"
    }
   ],
   "source": [
    "#Float to String\n",
    "Strng=str(num3)\n",
    "Strng"
   ]
  },
  {
   "cell_type": "raw",
   "id": "762c3de1-b015-4162-b7ba-d0f173188efb",
   "metadata": {},
   "source": [
    "3. fruits = [\"apple\", \"banana\", \"cherry\", \"coconut\", \"pineapple\", \"mango\", \"orange\"]\n",
    "\n",
    "Print below using indexing:\n",
    "\n",
    "- The first fruit\n",
    "\n",
    "- The last fruit (negative indexing)\n",
    "\n",
    "- The fourth fruit"
   ]
  },
  {
   "cell_type": "code",
   "execution_count": 22,
   "id": "1a37c4df-1502-4b16-ad84-b550df04b55a",
   "metadata": {},
   "outputs": [
    {
     "data": {
      "text/plain": [
       "['apple', 'banana', 'cherry', 'coconut', 'pineapple', 'mango', 'orange']"
      ]
     },
     "execution_count": 22,
     "metadata": {},
     "output_type": "execute_result"
    }
   ],
   "source": [
    "fruits = [\"apple\", \"banana\", \"cherry\", \"coconut\", \"pineapple\", \"mango\", \"orange\"]\n",
    "fruits"
   ]
  },
  {
   "cell_type": "code",
   "execution_count": 23,
   "id": "9a3f92af-9555-4c2d-ab90-7ab2351e43b6",
   "metadata": {},
   "outputs": [
    {
     "data": {
      "text/plain": [
       "'apple'"
      ]
     },
     "execution_count": 23,
     "metadata": {},
     "output_type": "execute_result"
    }
   ],
   "source": [
    "#The first fruit\n",
    "first_fruit=fruits[0]\n",
    "first_fruit\n"
   ]
  },
  {
   "cell_type": "code",
   "execution_count": 24,
   "id": "ecd58efb-5ab3-4e14-9be6-d16c5e401be4",
   "metadata": {},
   "outputs": [
    {
     "data": {
      "text/plain": [
       "'orange'"
      ]
     },
     "execution_count": 24,
     "metadata": {},
     "output_type": "execute_result"
    }
   ],
   "source": [
    "#The last fruit\n",
    "last_fruit=fruits[-1]\n",
    "last_fruit"
   ]
  },
  {
   "cell_type": "code",
   "execution_count": 25,
   "id": "33dc908b-f942-47a7-ae84-843cf8094a0a",
   "metadata": {},
   "outputs": [
    {
     "data": {
      "text/plain": [
       "'coconut'"
      ]
     },
     "execution_count": 25,
     "metadata": {},
     "output_type": "execute_result"
    }
   ],
   "source": [
    "#The fourth fruit\n",
    "fourth_fruit=fruits[3]\n",
    "fourth_fruit"
   ]
  },
  {
   "cell_type": "raw",
   "id": "a29eb7d8-d692-4159-9966-359ccf59c4da",
   "metadata": {},
   "source": [
    "4. List Slicing\n",
    "\n",
    "numbers = [10, 20, 30, 40, 50]\n",
    "\n",
    "Print:\n",
    "\n",
    "- First three elements\n",
    "\n",
    "- Last two elements\n",
    "\n",
    "- Print all elements except the first one\n",
    "\n",
    "- Print all elements except the last one\n",
    "\n",
    "- Print the list in reverse using slicing\n",
    "\n",
    "-  Print every second element"
   ]
  },
  {
   "cell_type": "code",
   "execution_count": 26,
   "id": "971469e0-4ecf-44c7-a939-a52e193375d9",
   "metadata": {},
   "outputs": [
    {
     "data": {
      "text/plain": [
       "[10, 20, 30, 40, 50]"
      ]
     },
     "execution_count": 26,
     "metadata": {},
     "output_type": "execute_result"
    }
   ],
   "source": [
    "numbers = [10,20,30,40,50]\n",
    "numbers"
   ]
  },
  {
   "cell_type": "code",
   "execution_count": 27,
   "id": "93b4faa3-de95-48c8-bc34-890132f9dd28",
   "metadata": {},
   "outputs": [
    {
     "data": {
      "text/plain": [
       "[10, 20, 30]"
      ]
     },
     "execution_count": 27,
     "metadata": {},
     "output_type": "execute_result"
    }
   ],
   "source": [
    "#first three elements\n",
    "first_three_elements=numbers[:3]\n",
    "first_three_elements"
   ]
  },
  {
   "cell_type": "code",
   "execution_count": 28,
   "id": "23a5294a-3ebe-4ca6-a8da-d8083df8ceaf",
   "metadata": {},
   "outputs": [
    {
     "data": {
      "text/plain": [
       "[40, 50]"
      ]
     },
     "execution_count": 28,
     "metadata": {},
     "output_type": "execute_result"
    }
   ],
   "source": [
    "#last two elements\n",
    "last_two_elements=numbers[3:]\n",
    "last_two_elements"
   ]
  },
  {
   "cell_type": "code",
   "execution_count": 29,
   "id": "f9543d7c-99c9-47e8-9f5b-2cef03dc2ff5",
   "metadata": {},
   "outputs": [
    {
     "data": {
      "text/plain": [
       "[20, 30, 40, 50]"
      ]
     },
     "execution_count": 29,
     "metadata": {},
     "output_type": "execute_result"
    }
   ],
   "source": [
    "#print all the elements except the first one\n",
    "all_elements_except_the_first_one=numbers[1:]\n",
    "all_elements_except_the_first_one"
   ]
  },
  {
   "cell_type": "code",
   "execution_count": 30,
   "id": "a211a7ad-85bc-4b49-baa5-dd0eefd96663",
   "metadata": {},
   "outputs": [
    {
     "data": {
      "text/plain": [
       "[10, 20, 30, 40]"
      ]
     },
     "execution_count": 30,
     "metadata": {},
     "output_type": "execute_result"
    }
   ],
   "source": [
    "#print all the elements except the last one\n",
    "all_elements_except_the_last_one=numbers[:4]\n",
    "all_elements_except_the_last_one"
   ]
  },
  {
   "cell_type": "code",
   "execution_count": 31,
   "id": "cf5ebc52-7006-410e-aec8-52cc684e375c",
   "metadata": {},
   "outputs": [
    {
     "data": {
      "text/plain": [
       "[50, 40, 30, 20, 10]"
      ]
     },
     "execution_count": 31,
     "metadata": {},
     "output_type": "execute_result"
    }
   ],
   "source": [
    "#Print the list in reverse using slicing\n",
    "list_in_reverse_using_slicing=numbers[::-1]\n",
    "list_in_reverse_using_slicing"
   ]
  },
  {
   "cell_type": "code",
   "execution_count": 32,
   "id": "506e271f-0e3e-43ff-b737-a7e05a62aee9",
   "metadata": {},
   "outputs": [
    {
     "data": {
      "text/plain": [
       "[20, 40]"
      ]
     },
     "execution_count": 32,
     "metadata": {},
     "output_type": "execute_result"
    }
   ],
   "source": [
    "#Print every second element\n",
    "every_second_element=numbers[1:5:2]\n",
    "every_second_element"
   ]
  },
  {
   "cell_type": "raw",
   "id": "a42d8efb-86d1-4509-90a3-c8f14fe9b91a",
   "metadata": {},
   "source": [
    "5. Add the number 10 to the end of the list using method.\n",
    "\n",
    "nums = [1, 2, 3]"
   ]
  },
  {
   "cell_type": "code",
   "execution_count": 33,
   "id": "53aedfcb-40c7-46be-975c-b4a849fdace5",
   "metadata": {},
   "outputs": [
    {
     "data": {
      "text/plain": [
       "[1, 2, 3]"
      ]
     },
     "execution_count": 33,
     "metadata": {},
     "output_type": "execute_result"
    }
   ],
   "source": [
    "nums = [1,2,3]\n",
    "nums"
   ]
  },
  {
   "cell_type": "code",
   "execution_count": 34,
   "id": "cdfec6a0-fb6d-4160-9105-5faf8fef4f2e",
   "metadata": {},
   "outputs": [
    {
     "data": {
      "text/plain": [
       "[1, 2, 3, 10]"
      ]
     },
     "execution_count": 34,
     "metadata": {},
     "output_type": "execute_result"
    }
   ],
   "source": [
    "#add 10 to the end of the list (append method)\n",
    "nums.append(10)\n",
    "nums"
   ]
  },
  {
   "cell_type": "raw",
   "id": "288b340f-6343-42a9-a5f8-e06db9d1061d",
   "metadata": {},
   "source": [
    "6. Insert the number 99 at index 1 using method.\n",
    "\n",
    "nums = [1, 2, 3]"
   ]
  },
  {
   "cell_type": "code",
   "execution_count": 35,
   "id": "f95bd6bb-4c13-484e-a42d-ff968d27e9c4",
   "metadata": {},
   "outputs": [
    {
     "data": {
      "text/plain": [
       "[1, 2, 3]"
      ]
     },
     "execution_count": 35,
     "metadata": {},
     "output_type": "execute_result"
    }
   ],
   "source": [
    "nums = [1,2,3]\n",
    "nums"
   ]
  },
  {
   "cell_type": "code",
   "execution_count": 36,
   "id": "d9dcea64-5ae6-4684-86f3-cb3f4fb87a07",
   "metadata": {},
   "outputs": [
    {
     "data": {
      "text/plain": [
       "[1, 99, 2, 3]"
      ]
     },
     "execution_count": 36,
     "metadata": {},
     "output_type": "execute_result"
    }
   ],
   "source": [
    "#insert 99 at index 1 (insert method)\n",
    "nums.insert(1,99)\n",
    "nums"
   ]
  },
  {
   "cell_type": "raw",
   "id": "217ede1d-9c4c-478d-a946-dfb046271f8a",
   "metadata": {},
   "source": [
    "7.  Add the elements of another list [4, 5] to the original list using method\n",
    "\n",
    "nums = [1, 2, 3]"
   ]
  },
  {
   "cell_type": "code",
   "execution_count": 46,
   "id": "25f86b72-66d5-48b2-94f8-ada4011d6a78",
   "metadata": {},
   "outputs": [],
   "source": [
    "num1 = [1,2,3]\n",
    "num2 = [4,5]"
   ]
  },
  {
   "cell_type": "code",
   "execution_count": 47,
   "id": "fc76229f-7e30-4e38-b1db-96645b287c19",
   "metadata": {},
   "outputs": [
    {
     "data": {
      "text/plain": [
       "[1, 2, 3, 4, 5]"
      ]
     },
     "execution_count": 47,
     "metadata": {},
     "output_type": "execute_result"
    }
   ],
   "source": [
    "#add the element of another list to the original list (extend method)\n",
    "num1.extend(num2)\n",
    "num1"
   ]
  },
  {
   "cell_type": "raw",
   "id": "4ce13fc7-cf44-4292-a3ab-2ddb119a6c66",
   "metadata": {},
   "source": [
    "8.  Sort the list in ascending order using method\n",
    "\n",
    "nums = [4, 1, 3, 2]"
   ]
  },
  {
   "cell_type": "code",
   "execution_count": 48,
   "id": "d2018043-7ddb-46e4-802b-f9b92b97aac0",
   "metadata": {},
   "outputs": [
    {
     "data": {
      "text/plain": [
       "[4, 1, 3, 2]"
      ]
     },
     "execution_count": 48,
     "metadata": {},
     "output_type": "execute_result"
    }
   ],
   "source": [
    "nums = [4,1,3,2]\n",
    "nums"
   ]
  },
  {
   "cell_type": "code",
   "execution_count": 50,
   "id": "719e1dd3-6c40-40a5-a205-c3fea73a0a7e",
   "metadata": {},
   "outputs": [
    {
     "data": {
      "text/plain": [
       "[1, 2, 3, 4]"
      ]
     },
     "execution_count": 50,
     "metadata": {},
     "output_type": "execute_result"
    }
   ],
   "source": [
    "#list the elements in ascending order (sort method)\n",
    "nums.sort()\n",
    "nums"
   ]
  },
  {
   "cell_type": "raw",
   "id": "567b0ae4-b647-4a61-baf0-0b5fc9445ce0",
   "metadata": {},
   "source": [
    "9. A customer orders several food items. Add the items to a list and then:\n",
    "\n",
    "order = [\"burger\", \"fries\", \"coke\"]\n",
    "\n",
    "- Add a new item \"ice cream\" using append()\n",
    "\n",
    "- Remove an item \"biryani\" using remove()\n",
    "\n",
    "- Show the final order"
   ]
  },
  {
   "cell_type": "code",
   "execution_count": 51,
   "id": "abf2e1aa-0a60-4201-9640-9866ce4eacf3",
   "metadata": {},
   "outputs": [
    {
     "data": {
      "text/plain": [
       "['burger', 'fries', 'coke']"
      ]
     },
     "execution_count": 51,
     "metadata": {},
     "output_type": "execute_result"
    }
   ],
   "source": [
    "order = [\"burger\", \"fries\", \"coke\"]\n",
    "order"
   ]
  },
  {
   "cell_type": "code",
   "execution_count": 52,
   "id": "e8e51ac6-863d-40dc-a8c5-09d92c118003",
   "metadata": {},
   "outputs": [
    {
     "data": {
      "text/plain": [
       "['burger', 'fries', 'coke', 'ice cream']"
      ]
     },
     "execution_count": 52,
     "metadata": {},
     "output_type": "execute_result"
    }
   ],
   "source": [
    "#Add a new item \"ice cream\" (append method)\n",
    "order.append(\"ice cream\")\n",
    "order"
   ]
  },
  {
   "cell_type": "code",
   "execution_count": 53,
   "id": "3eb7d3d0-588f-4bd4-b475-6440ff94a03a",
   "metadata": {},
   "outputs": [
    {
     "data": {
      "text/plain": [
       "['burger', 'fries', 'coke', 'ice cream', 'biryani']"
      ]
     },
     "execution_count": 53,
     "metadata": {},
     "output_type": "execute_result"
    }
   ],
   "source": [
    "#Remove an item \"biryani\" (remove method)\n",
    "order.append(\"biryani\")\n",
    "order"
   ]
  },
  {
   "cell_type": "code",
   "execution_count": 54,
   "id": "72b052f0-4b33-49c9-b057-52093ca261db",
   "metadata": {},
   "outputs": [
    {
     "data": {
      "text/plain": [
       "['burger', 'fries', 'coke', 'ice cream']"
      ]
     },
     "execution_count": 54,
     "metadata": {},
     "output_type": "execute_result"
    }
   ],
   "source": [
    "order.remove(\"biryani\")\n",
    "order"
   ]
  },
  {
   "cell_type": "code",
   "execution_count": 55,
   "id": "eb2c6896-ddaa-474b-b8ce-cab4eb53dbac",
   "metadata": {},
   "outputs": [
    {
     "data": {
      "text/plain": [
       "['burger', 'fries', 'coke', 'ice cream']"
      ]
     },
     "execution_count": 55,
     "metadata": {},
     "output_type": "execute_result"
    }
   ],
   "source": [
    "#Show the final order\n",
    "order"
   ]
  },
  {
   "cell_type": "raw",
   "id": "f0794fcd-60e5-4df4-8c0e-111cb7ee6ff5",
   "metadata": {},
   "source": [
    "10. Track passengers on a bus:\n",
    "\n",
    "passengers = [\"Ali\", \"Zara\", \"Ahmed\"]\n",
    "\n",
    "\n",
    "- Insert a new passenger \"Sara\" at position 2\n",
    "\n",
    "- Remove passesnger who got off \"Zara\"\n",
    "\n",
    "- Reverse the order to show who entered first"
   ]
  },
  {
   "cell_type": "code",
   "execution_count": 56,
   "id": "5033e839-e9d7-4e7e-9afe-b5b9aa61bc33",
   "metadata": {},
   "outputs": [
    {
     "data": {
      "text/plain": [
       "['Ali', 'Zara', 'Ahmed']"
      ]
     },
     "execution_count": 56,
     "metadata": {},
     "output_type": "execute_result"
    }
   ],
   "source": [
    "passengers = [\"Ali\", \"Zara\", \"Ahmed\"]\n",
    "passengers"
   ]
  },
  {
   "cell_type": "code",
   "execution_count": 58,
   "id": "51f95c08-f425-4302-8c33-1ab86a77986c",
   "metadata": {},
   "outputs": [
    {
     "data": {
      "text/plain": [
       "['Ali', 'Sara', 'Zara', 'Ahmed']"
      ]
     },
     "execution_count": 58,
     "metadata": {},
     "output_type": "execute_result"
    }
   ],
   "source": [
    "#insert a new passenger \"Sara\" at position 2 (insert method)\n",
    "passengers.insert(1,\"Sara\")\n",
    "passengers"
   ]
  },
  {
   "cell_type": "code",
   "execution_count": 59,
   "id": "393d17a5-31d4-412d-a987-f2b5ddd9e9f8",
   "metadata": {},
   "outputs": [
    {
     "data": {
      "text/plain": [
       "['Ali', 'Sara', 'Ahmed']"
      ]
     },
     "execution_count": 59,
     "metadata": {},
     "output_type": "execute_result"
    }
   ],
   "source": [
    "#remove passenger who got off \"Zara\" \n",
    "passengers.remove(\"Zara\")\n",
    "passengers"
   ]
  },
  {
   "cell_type": "code",
   "execution_count": 60,
   "id": "676c5ecf-c746-498a-9976-b06b89fc617b",
   "metadata": {},
   "outputs": [
    {
     "data": {
      "text/plain": [
       "['Ahmed', 'Sara', 'Ali']"
      ]
     },
     "execution_count": 60,
     "metadata": {},
     "output_type": "execute_result"
    }
   ],
   "source": [
    "#reverse the order to show who entered first (reverse method)\n",
    "passengers.reverse()\n",
    "passengers"
   ]
  },
  {
   "cell_type": "code",
   "execution_count": null,
   "id": "c4d7ae81-a457-41c4-9566-3cfafb4f03e5",
   "metadata": {},
   "outputs": [],
   "source": []
  }
 ],
 "metadata": {
  "kernelspec": {
   "display_name": "Python 3 (ipykernel)",
   "language": "python",
   "name": "python3"
  },
  "language_info": {
   "codemirror_mode": {
    "name": "ipython",
    "version": 3
   },
   "file_extension": ".py",
   "mimetype": "text/x-python",
   "name": "python",
   "nbconvert_exporter": "python",
   "pygments_lexer": "ipython3",
   "version": "3.12.7"
  }
 },
 "nbformat": 4,
 "nbformat_minor": 5
}
